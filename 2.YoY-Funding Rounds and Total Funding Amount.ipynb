{
 "cells": [
  {
   "cell_type": "markdown",
   "metadata": {},
   "source": [
    "### IMPORTS"
   ]
  },
  {
   "cell_type": "code",
   "execution_count": 1,
   "metadata": {},
   "outputs": [],
   "source": [
    "import numpy as np\n",
    "import pandas as pd\n",
    "import matplotlib.pyplot as plt\n",
    "import seaborn as sns\n",
    "%matplotlib inline"
   ]
  },
  {
   "cell_type": "markdown",
   "metadata": {},
   "source": [
    "### 1. Reading data on Investment Rounds in 2008-18 from investments input\n",
    " "
   ]
  },
  {
   "cell_type": "code",
   "execution_count": 2,
   "metadata": {},
   "outputs": [
    {
     "data": {
      "text/html": [
       "<div>\n",
       "<style scoped>\n",
       "    .dataframe tbody tr th:only-of-type {\n",
       "        vertical-align: middle;\n",
       "    }\n",
       "\n",
       "    .dataframe tbody tr th {\n",
       "        vertical-align: top;\n",
       "    }\n",
       "\n",
       "    .dataframe thead th {\n",
       "        text-align: right;\n",
       "    }\n",
       "</style>\n",
       "<table border=\"1\" class=\"dataframe\">\n",
       "  <thead>\n",
       "    <tr style=\"text-align: right;\">\n",
       "      <th></th>\n",
       "      <th>Year</th>\n",
       "      <th>Org_Name</th>\n",
       "      <th>Funding_Round_Type</th>\n",
       "      <th>Funding_Amt_USD</th>\n",
       "      <th>Funding_Stage</th>\n",
       "    </tr>\n",
       "  </thead>\n",
       "  <tbody>\n",
       "    <tr>\n",
       "      <th>0</th>\n",
       "      <td>2018</td>\n",
       "      <td>Zelros</td>\n",
       "      <td>Series A</td>\n",
       "      <td>4532800</td>\n",
       "      <td>Early Stage</td>\n",
       "    </tr>\n",
       "    <tr>\n",
       "      <th>1</th>\n",
       "      <td>2018</td>\n",
       "      <td>Axyon AI</td>\n",
       "      <td>Series Unknown</td>\n",
       "      <td>1473160</td>\n",
       "      <td>Uncategorized</td>\n",
       "    </tr>\n",
       "    <tr>\n",
       "      <th>2</th>\n",
       "      <td>2018</td>\n",
       "      <td>Oriente</td>\n",
       "      <td>Series A</td>\n",
       "      <td>105000000</td>\n",
       "      <td>Early Stage</td>\n",
       "    </tr>\n",
       "  </tbody>\n",
       "</table>\n",
       "</div>"
      ],
      "text/plain": [
       "   Year  Org_Name Funding_Round_Type  Funding_Amt_USD  Funding_Stage\n",
       "0  2018    Zelros           Series A          4532800    Early Stage\n",
       "1  2018  Axyon AI     Series Unknown          1473160  Uncategorized\n",
       "2  2018   Oriente           Series A        105000000    Early Stage"
      ]
     },
     "execution_count": 2,
     "metadata": {},
     "output_type": "execute_result"
    }
   ],
   "source": [
    "#Reading Total Investments Data for all Companies in the sector between 2008-18\n",
    "\n",
    "df_inv = pd.read_csv('./input_data/investmentInput.csv')\n",
    "\n",
    "df_inv.head(3)"
   ]
  },
  {
   "cell_type": "markdown",
   "metadata": {},
   "source": [
    "### 2. Extracting data Year on Year Funding Rounds and Funding amounts data dataframe"
   ]
  },
  {
   "cell_type": "code",
   "execution_count": 3,
   "metadata": {},
   "outputs": [],
   "source": [
    "# Grouping by Year\n",
    "funding_groupedby_year = df_inv.groupby(by='Year',axis=0)\n",
    "\n",
    "# Extracting Funding Rounds count to series\n",
    "rounds_count_ser = funding_groupedby_year['Org_Name'].count()\n",
    "\n",
    "# Extracting Total Funding Amount to series\n",
    "funding_amt_ser = funding_groupedby_year['Funding_Amt_USD'].sum()"
   ]
  },
  {
   "cell_type": "code",
   "execution_count": 4,
   "metadata": {},
   "outputs": [],
   "source": [
    "#  Creating dataframe\n",
    "funding_df = pd.DataFrame({\n",
    "                            'Funding_Rounds': rounds_count_ser,\n",
    "                            'Funding_Amt_USD': funding_amt_ser\n",
    "                          })\n",
    "\n",
    "# Resetting index\n",
    "\n",
    "funding_df.reset_index(drop=False, inplace=True)"
   ]
  },
  {
   "cell_type": "code",
   "execution_count": 5,
   "metadata": {},
   "outputs": [
    {
     "data": {
      "text/html": [
       "<div>\n",
       "<style scoped>\n",
       "    .dataframe tbody tr th:only-of-type {\n",
       "        vertical-align: middle;\n",
       "    }\n",
       "\n",
       "    .dataframe tbody tr th {\n",
       "        vertical-align: top;\n",
       "    }\n",
       "\n",
       "    .dataframe thead th {\n",
       "        text-align: right;\n",
       "    }\n",
       "</style>\n",
       "<table border=\"1\" class=\"dataframe\">\n",
       "  <thead>\n",
       "    <tr style=\"text-align: right;\">\n",
       "      <th></th>\n",
       "      <th>Year</th>\n",
       "      <th>Funding_Rounds</th>\n",
       "      <th>Funding_Amt_USD</th>\n",
       "    </tr>\n",
       "  </thead>\n",
       "  <tbody>\n",
       "    <tr>\n",
       "      <th>0</th>\n",
       "      <td>2008</td>\n",
       "      <td>1</td>\n",
       "      <td>5020000</td>\n",
       "    </tr>\n",
       "    <tr>\n",
       "      <th>1</th>\n",
       "      <td>2009</td>\n",
       "      <td>1</td>\n",
       "      <td>365275</td>\n",
       "    </tr>\n",
       "    <tr>\n",
       "      <th>2</th>\n",
       "      <td>2010</td>\n",
       "      <td>5</td>\n",
       "      <td>1640384</td>\n",
       "    </tr>\n",
       "  </tbody>\n",
       "</table>\n",
       "</div>"
      ],
      "text/plain": [
       "   Year  Funding_Rounds  Funding_Amt_USD\n",
       "0  2008               1          5020000\n",
       "1  2009               1           365275\n",
       "2  2010               5          1640384"
      ]
     },
     "execution_count": 5,
     "metadata": {},
     "output_type": "execute_result"
    }
   ],
   "source": [
    "funding_df.head(3)"
   ]
  },
  {
   "cell_type": "markdown",
   "metadata": {},
   "source": [
    "###  3. Plotting  YoY Total Funding Amount and Funding Rounds Trends"
   ]
  },
  {
   "cell_type": "code",
   "execution_count": 6,
   "metadata": {},
   "outputs": [
    {
     "data": {
      "image/png": "[encoded data removed]",
      "text/plain": [
       "<Figure size 576x432 with 2 Axes>"
      ]
     },
     "metadata": {},
     "output_type": "display_data"
    }
   ],
   "source": [
    "plotTitle = '2. Year on Year Total Funding Amount and Funding Rounds'\n",
    "\n",
    "sns.set(style=\"white\", rc={\"lines.linewidth\": 3})\n",
    "\n",
    "plt.subplots(figsize = (8, 6))\n",
    "\n",
    "plt.xticks(np.arange(start=2008, stop=2019, step=1))\n",
    "\n",
    "ax = sns.barplot(x='Year',\n",
    "                 y='Funding_Amt_USD',\n",
    "                 data=funding_df,\n",
    "                 color='#004488',\n",
    "                 label='Amount'\n",
    "                )\n",
    "\n",
    "ax2 = ax.twinx()\n",
    "\n",
    "\n",
    "\n",
    "ax2.plot(ax.get_xticks(), funding_df['Funding_Rounds'], color='r', marker='o', label='Rounds')\n",
    "\n",
    "ax.set_title(plotTitle,fontdict={'fontsize':13,'fontweight':'bold'})\n",
    "ax.legend() \n",
    "ax2.legend(borderaxespad=3)\n",
    "ax.set(xlabel='Year', ylabel='Funding Amount in USD')\n",
    "ax2.set(ylabel='Funding Rounds Count')\n",
    "sns.set()\n",
    "\n",
    "\n",
    "#Saving to output png file\n",
    "\n",
    "plt.savefig('./output/plots/2_YoY-Total_Funding_Rounds.png', dpi=100)"
   ]
  },
  {
   "cell_type": "markdown",
   "metadata": {},
   "source": [
    "### 4. Saving results to file"
   ]
  },
  {
   "cell_type": "code",
   "execution_count": 7,
   "metadata": {},
   "outputs": [],
   "source": [
    "# Writing data to output excel file\n",
    "\n",
    "from openpyxl import load_workbook\n",
    "\n",
    "book = load_workbook('./output/outputData.xlsx')\n",
    "\n",
    "writer = pd.ExcelWriter('./output/outputData.xlsx', engine='openpyxl')\n",
    "\n",
    "writer.book = book\n",
    "\n",
    "writer.sheets = dict((ws.title, ws) for ws in book.worksheets)\n",
    "\n",
    "funding_df.to_excel(writer,'2.YoY_Total_Funding_Rounds', index=False)\n",
    "\n",
    "writer.save()"
   ]
  },
  {
   "cell_type": "markdown",
   "metadata": {},
   "source": [
    "### 5. Deleting dataframes, series to deallocate memory"
   ]
  },
  {
   "cell_type": "code",
   "execution_count": 8,
   "metadata": {},
   "outputs": [],
   "source": [
    "del df_inv\n",
    "del funding_groupedby_year\n",
    "del funding_df"
   ]
  }
 ],
 "metadata": {
  "kernelspec": {
   "display_name": "Python 3",
   "language": "python",
   "name": "python3"
  },
  "language_info": {
   "codemirror_mode": {
    "name": "ipython",
    "version": 3
   },
   "file_extension": ".py",
   "mimetype": "text/x-python",
   "name": "python",
   "nbconvert_exporter": "python",
   "pygments_lexer": "ipython3",
   "version": "3.7.3"
  }
 },
 "nbformat": 4,
 "nbformat_minor": 2
}
