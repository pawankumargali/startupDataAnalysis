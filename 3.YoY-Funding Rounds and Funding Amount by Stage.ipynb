{
 "cells": [
  {
   "cell_type": "markdown",
   "metadata": {},
   "source": [
    "### IMPORTS"
   ]
  },
  {
   "cell_type": "code",
   "execution_count": 1,
   "metadata": {},
   "outputs": [],
   "source": [
    "import numpy as np\n",
    "import pandas as pd\n",
    "import matplotlib.pyplot as plt\n",
    "import seaborn as sns\n",
    "%matplotlib inline"
   ]
  },
  {
   "cell_type": "markdown",
   "metadata": {},
   "source": [
    "### 1. Reading data on Investment Rounds in 2008-18 from investments input"
   ]
  },
  {
   "cell_type": "code",
   "execution_count": 2,
   "metadata": {},
   "outputs": [
    {
     "data": {
      "text/html": [
       "<div>\n",
       "<style scoped>\n",
       "    .dataframe tbody tr th:only-of-type {\n",
       "        vertical-align: middle;\n",
       "    }\n",
       "\n",
       "    .dataframe tbody tr th {\n",
       "        vertical-align: top;\n",
       "    }\n",
       "\n",
       "    .dataframe thead th {\n",
       "        text-align: right;\n",
       "    }\n",
       "</style>\n",
       "<table border=\"1\" class=\"dataframe\">\n",
       "  <thead>\n",
       "    <tr style=\"text-align: right;\">\n",
       "      <th></th>\n",
       "      <th>Year</th>\n",
       "      <th>Org_Name</th>\n",
       "      <th>Funding_Round_Type</th>\n",
       "      <th>Funding_Amt_USD</th>\n",
       "      <th>Funding_Stage</th>\n",
       "    </tr>\n",
       "  </thead>\n",
       "  <tbody>\n",
       "    <tr>\n",
       "      <th>0</th>\n",
       "      <td>2018</td>\n",
       "      <td>Zelros</td>\n",
       "      <td>Series A</td>\n",
       "      <td>4532800</td>\n",
       "      <td>Early Stage</td>\n",
       "    </tr>\n",
       "    <tr>\n",
       "      <th>1</th>\n",
       "      <td>2018</td>\n",
       "      <td>Axyon AI</td>\n",
       "      <td>Series Unknown</td>\n",
       "      <td>1473160</td>\n",
       "      <td>Uncategorized</td>\n",
       "    </tr>\n",
       "    <tr>\n",
       "      <th>2</th>\n",
       "      <td>2018</td>\n",
       "      <td>Oriente</td>\n",
       "      <td>Series A</td>\n",
       "      <td>105000000</td>\n",
       "      <td>Early Stage</td>\n",
       "    </tr>\n",
       "  </tbody>\n",
       "</table>\n",
       "</div>"
      ],
      "text/plain": [
       "   Year  Org_Name Funding_Round_Type  Funding_Amt_USD  Funding_Stage\n",
       "0  2018    Zelros           Series A          4532800    Early Stage\n",
       "1  2018  Axyon AI     Series Unknown          1473160  Uncategorized\n",
       "2  2018   Oriente           Series A        105000000    Early Stage"
      ]
     },
     "execution_count": 2,
     "metadata": {},
     "output_type": "execute_result"
    }
   ],
   "source": [
    "#Reading Total Investments Data for all Companies in the sector between 2008-18\n",
    "\n",
    "df_inv = pd.read_csv('./input_data/investmentInput.csv')\n",
    "\n",
    "df_inv.head(3)"
   ]
  },
  {
   "cell_type": "markdown",
   "metadata": {},
   "source": [
    "##### Note:  For categorization details of Funding Round Types into  Funding Stages See investmentDataMunging.ipynb Sl No. 5 \n",
    "\n",
    "    "
   ]
  },
  {
   "cell_type": "markdown",
   "metadata": {},
   "source": [
    "### 2. Set of all Funding Stages"
   ]
  },
  {
   "cell_type": "code",
   "execution_count": 3,
   "metadata": {},
   "outputs": [
    {
     "name": "stdout",
     "output_type": "stream",
     "text": [
      "['Early Stage' 'Uncategorized' 'Seed' 'Late Stage' 'Private Equity']\n"
     ]
    }
   ],
   "source": [
    "print(df_inv['Funding_Stage'].unique())"
   ]
  },
  {
   "cell_type": "markdown",
   "metadata": {},
   "source": [
    "### 3. Defining functions to extract data on YoY funding amounts and rounds by Stage, plot and save results"
   ]
  },
  {
   "cell_type": "markdown",
   "metadata": {},
   "source": [
    "#### a. Extractor function"
   ]
  },
  {
   "cell_type": "code",
   "execution_count": 4,
   "metadata": {},
   "outputs": [],
   "source": [
    "#Takes input dataframe and extracts info on YoY Funding Amount and No. of Rounds by Stage\n",
    "\n",
    "def RoundsandFundingByStage(fundingStage, df_inp):\n",
    "    \n",
    "    # Extracting funding data relevant to funding stage into df_stage\n",
    "    df_stage = df_inp[df_inp['Funding_Stage']==fundingStage]\n",
    "    \n",
    "    \n",
    "    # Grouping df_stage by Year\n",
    "    group = df_stage.groupby(by='Year',axis=0)\n",
    "\n",
    "    # Extracting Funding Rounds count to series\n",
    "    rounds_count_ser = group['Org_Name'].count()\n",
    "\n",
    "    # Extracting Total Funding Amount to series\n",
    "    funding_amt_ser = group['Funding_Amt_USD'].sum()\n",
    "\n",
    "    #  Creating dataframe\n",
    "    df_out = pd.DataFrame({\n",
    "                                'Funding_Rounds': rounds_count_ser,\n",
    "                                'Funding_Amt_USD': funding_amt_ser\n",
    "                              })\n",
    "    \n",
    "    # Resetting index of df_out\n",
    "    df_out.reset_index(drop=False, inplace=True)\n",
    "    \n",
    "    # Deleting df_stage dataframe\n",
    "    del df_stage\n",
    "    \n",
    "    return df_out"
   ]
  },
  {
   "cell_type": "markdown",
   "metadata": {},
   "source": [
    "#### b. Plotter function"
   ]
  },
  {
   "cell_type": "code",
   "execution_count": 5,
   "metadata": {},
   "outputs": [],
   "source": [
    "def PlotRoundsAndFundingByStage(df_inp, plotTitle):\n",
    "    \n",
    "    #Setting view styles for plotting graph\n",
    "    sns.set(style=\"white\", rc={\"lines.linewidth\": 3})\n",
    "    \n",
    "    #specifying size of plot\n",
    "    plt.subplots(figsize = (8, 6))\n",
    "    \n",
    "    #X-axis Range\n",
    "    plt.xticks(np.arange(start=2008, stop=2019, step=1))\n",
    "    \n",
    "    #Plotting Bar Graph: Total Funding Amount w.r.t Year \n",
    "    ax = sns.barplot(x='Year',\n",
    "                y='Funding_Amt_USD',\n",
    "                data=df_inp,\n",
    "                color='#004488',\n",
    "                label='Amount'\n",
    "                )\n",
    "    \n",
    "    #Creating another overlapping axes for Year to plot No of Rounds w.r.t Year\n",
    "    ax2 = ax.twinx()\n",
    "\n",
    "    #Plotting Line Graph: No of Funding Rounds w.r.t Year\n",
    "    ax2.plot(ax.get_xticks(), df_inp['Funding_Rounds'], color='r', marker='o', label='Rounds')\n",
    "    \n",
    "    #Specifying title, labels & legend \n",
    "    ax.set_title(plotTitle,fontdict={'fontsize':13,'fontweight':'bold'})\n",
    "    ax.legend() \n",
    "    ax2.legend(borderaxespad=3)\n",
    "    ax.set(xlabel='Year', ylabel='Funding Amount in USD')\n",
    "    ax2.set(ylabel='Funding Rounds Count')\n",
    "    \n",
    "    #Resetting view styles to default\n",
    "    sns.set()\n",
    "    "
   ]
  },
  {
   "cell_type": "markdown",
   "metadata": {},
   "source": [
    "### 3. Extracting data and plotting Results"
   ]
  },
  {
   "cell_type": "markdown",
   "metadata": {},
   "source": [
    "### a. Seed Stage"
   ]
  },
  {
   "cell_type": "code",
   "execution_count": 6,
   "metadata": {},
   "outputs": [
    {
     "data": {
      "text/html": [
       "<div>\n",
       "<style scoped>\n",
       "    .dataframe tbody tr th:only-of-type {\n",
       "        vertical-align: middle;\n",
       "    }\n",
       "\n",
       "    .dataframe tbody tr th {\n",
       "        vertical-align: top;\n",
       "    }\n",
       "\n",
       "    .dataframe thead th {\n",
       "        text-align: right;\n",
       "    }\n",
       "</style>\n",
       "<table border=\"1\" class=\"dataframe\">\n",
       "  <thead>\n",
       "    <tr style=\"text-align: right;\">\n",
       "      <th></th>\n",
       "      <th>Year</th>\n",
       "      <th>Funding_Rounds</th>\n",
       "      <th>Funding_Amt_USD</th>\n",
       "    </tr>\n",
       "  </thead>\n",
       "  <tbody>\n",
       "    <tr>\n",
       "      <th>0</th>\n",
       "      <td>2009</td>\n",
       "      <td>1</td>\n",
       "      <td>365275</td>\n",
       "    </tr>\n",
       "    <tr>\n",
       "      <th>1</th>\n",
       "      <td>2010</td>\n",
       "      <td>4</td>\n",
       "      <td>290384</td>\n",
       "    </tr>\n",
       "    <tr>\n",
       "      <th>2</th>\n",
       "      <td>2011</td>\n",
       "      <td>6</td>\n",
       "      <td>3903431</td>\n",
       "    </tr>\n",
       "  </tbody>\n",
       "</table>\n",
       "</div>"
      ],
      "text/plain": [
       "   Year  Funding_Rounds  Funding_Amt_USD\n",
       "0  2009               1           365275\n",
       "1  2010               4           290384\n",
       "2  2011               6          3903431"
      ]
     },
     "execution_count": 6,
     "metadata": {},
     "output_type": "execute_result"
    }
   ],
   "source": [
    "# Extracting seed_stage YoY Funding amount and No of Funding Rounds Count from input df_inv\n",
    "\n",
    "seed_stage_df = RoundsandFundingByStage('Seed',df_inv)\n",
    "\n",
    "seed_stage_df.head(3)"
   ]
  },
  {
   "cell_type": "code",
   "execution_count": 7,
   "metadata": {},
   "outputs": [
    {
     "data": {
      "image/png": "[encoded data removed]",
      "text/plain": [
       "<Figure size 576x432 with 2 Axes>"
      ]
     },
     "metadata": {},
     "output_type": "display_data"
    }
   ],
   "source": [
    "#Plotting trends from seed_df\n",
    "\n",
    "plotTitle = '3a. Seed - Year on Year Funding Amount and No. of Rounds'\n",
    "\n",
    "PlotRoundsAndFundingByStage(seed_stage_df, plotTitle)\n",
    "\n",
    "#Saving to output png file\n",
    "\n",
    "plt.savefig('./output/plots/3a_YoY-Seed_Funding_Rounds.png', dpi=100)"
   ]
  },
  {
   "cell_type": "markdown",
   "metadata": {},
   "source": [
    "### b. Early Stage"
   ]
  },
  {
   "cell_type": "code",
   "execution_count": 8,
   "metadata": {},
   "outputs": [
    {
     "data": {
      "text/html": [
       "<div>\n",
       "<style scoped>\n",
       "    .dataframe tbody tr th:only-of-type {\n",
       "        vertical-align: middle;\n",
       "    }\n",
       "\n",
       "    .dataframe tbody tr th {\n",
       "        vertical-align: top;\n",
       "    }\n",
       "\n",
       "    .dataframe thead th {\n",
       "        text-align: right;\n",
       "    }\n",
       "</style>\n",
       "<table border=\"1\" class=\"dataframe\">\n",
       "  <thead>\n",
       "    <tr style=\"text-align: right;\">\n",
       "      <th></th>\n",
       "      <th>Year</th>\n",
       "      <th>Funding_Rounds</th>\n",
       "      <th>Funding_Amt_USD</th>\n",
       "    </tr>\n",
       "  </thead>\n",
       "  <tbody>\n",
       "    <tr>\n",
       "      <th>0</th>\n",
       "      <td>2008</td>\n",
       "      <td>1</td>\n",
       "      <td>5020000</td>\n",
       "    </tr>\n",
       "    <tr>\n",
       "      <th>1</th>\n",
       "      <td>2011</td>\n",
       "      <td>2</td>\n",
       "      <td>25000000</td>\n",
       "    </tr>\n",
       "    <tr>\n",
       "      <th>2</th>\n",
       "      <td>2012</td>\n",
       "      <td>5</td>\n",
       "      <td>40740000</td>\n",
       "    </tr>\n",
       "  </tbody>\n",
       "</table>\n",
       "</div>"
      ],
      "text/plain": [
       "   Year  Funding_Rounds  Funding_Amt_USD\n",
       "0  2008               1          5020000\n",
       "1  2011               2         25000000\n",
       "2  2012               5         40740000"
      ]
     },
     "execution_count": 8,
     "metadata": {},
     "output_type": "execute_result"
    }
   ],
   "source": [
    "# Extracting seed_stage YoY Funding amount and No of Funding Rounds Count from input df_inv \n",
    "\n",
    "early_stage_df = RoundsandFundingByStage('Early Stage',df_inv)\n",
    "\n",
    "early_stage_df.head(3)"
   ]
  },
  {
   "cell_type": "code",
   "execution_count": 9,
   "metadata": {},
   "outputs": [
    {
     "data": {
      "image/png": "[encoded data removed]",
      "text/plain": [
       "<Figure size 576x432 with 2 Axes>"
      ]
     },
     "metadata": {},
     "output_type": "display_data"
    }
   ],
   "source": [
    "#Plotting trends from early_stage_df \n",
    "\n",
    "plotTitle='3b. Early Stage - Year on Year Funding Amount and No. of Rounds'\n",
    "\n",
    "PlotRoundsAndFundingByStage(early_stage_df, plotTitle)\n",
    "\n",
    "#Saving to output png file\n",
    "\n",
    "plt.savefig('./output/plots/3b_YoY-EarlyStage_Funding_Rounds.png', dpi=100)"
   ]
  },
  {
   "cell_type": "markdown",
   "metadata": {},
   "source": [
    "### c. Late Stage"
   ]
  },
  {
   "cell_type": "code",
   "execution_count": 10,
   "metadata": {},
   "outputs": [
    {
     "data": {
      "text/html": [
       "<div>\n",
       "<style scoped>\n",
       "    .dataframe tbody tr th:only-of-type {\n",
       "        vertical-align: middle;\n",
       "    }\n",
       "\n",
       "    .dataframe tbody tr th {\n",
       "        vertical-align: top;\n",
       "    }\n",
       "\n",
       "    .dataframe thead th {\n",
       "        text-align: right;\n",
       "    }\n",
       "</style>\n",
       "<table border=\"1\" class=\"dataframe\">\n",
       "  <thead>\n",
       "    <tr style=\"text-align: right;\">\n",
       "      <th></th>\n",
       "      <th>Year</th>\n",
       "      <th>Funding_Rounds</th>\n",
       "      <th>Funding_Amt_USD</th>\n",
       "    </tr>\n",
       "  </thead>\n",
       "  <tbody>\n",
       "    <tr>\n",
       "      <th>0</th>\n",
       "      <td>2013</td>\n",
       "      <td>3</td>\n",
       "      <td>32050000</td>\n",
       "    </tr>\n",
       "    <tr>\n",
       "      <th>1</th>\n",
       "      <td>2014</td>\n",
       "      <td>2</td>\n",
       "      <td>10000000</td>\n",
       "    </tr>\n",
       "    <tr>\n",
       "      <th>2</th>\n",
       "      <td>2015</td>\n",
       "      <td>3</td>\n",
       "      <td>164152500</td>\n",
       "    </tr>\n",
       "  </tbody>\n",
       "</table>\n",
       "</div>"
      ],
      "text/plain": [
       "   Year  Funding_Rounds  Funding_Amt_USD\n",
       "0  2013               3         32050000\n",
       "1  2014               2         10000000\n",
       "2  2015               3        164152500"
      ]
     },
     "execution_count": 10,
     "metadata": {},
     "output_type": "execute_result"
    }
   ],
   "source": [
    "# Extracting seed_stage YoY Funding amount and No of Funding Rounds Count from input df_inv \n",
    "\n",
    "late_stage_df = RoundsandFundingByStage('Late Stage',df_inv)\n",
    "\n",
    "late_stage_df.head(3)"
   ]
  },
  {
   "cell_type": "code",
   "execution_count": 11,
   "metadata": {},
   "outputs": [
    {
     "data": {
      "image/png": "[encoded data removed]",
      "text/plain": [
       "<Figure size 576x432 with 2 Axes>"
      ]
     },
     "metadata": {},
     "output_type": "display_data"
    }
   ],
   "source": [
    "#Plotting trends from late_stage_df \n",
    "\n",
    "plotTitle='3c. Late Stage - Year on Year Funding Amount and No. of Rounds'\n",
    "\n",
    "PlotRoundsAndFundingByStage(late_stage_df, plotTitle)\n",
    "\n",
    "#Saving to output png file\n",
    "\n",
    "plt.savefig('./output/plots/3c_YoY-LateStage_Funding_Rounds.png', dpi=100)"
   ]
  },
  {
   "cell_type": "markdown",
   "metadata": {},
   "source": [
    "### 6. Saving results to file"
   ]
  },
  {
   "cell_type": "code",
   "execution_count": 12,
   "metadata": {},
   "outputs": [],
   "source": [
    "# Writing data to output excel file\n",
    "\n",
    "from openpyxl import load_workbook\n",
    "\n",
    "book = load_workbook('./output/outputData.xlsx')\n",
    "\n",
    "writer = pd.ExcelWriter('./output/outputData.xlsx', engine='openpyxl')\n",
    "\n",
    "writer.book = book\n",
    "\n",
    "writer.sheets = dict((ws.title, ws) for ws in book.worksheets)\n",
    "\n",
    "seed_stage_df.to_excel(writer, '3a.YoY-Seed_Funding_Rounds', index=False)\n",
    "\n",
    "early_stage_df.to_excel(writer,'3b.YoY-Early_Funding_Rounds', index=False)\n",
    "\n",
    "late_stage_df.to_excel(writer,'3c.YoY-Late_Funding_Rounds', index=False)\n",
    "\n",
    "writer.save()"
   ]
  },
  {
   "cell_type": "markdown",
   "metadata": {},
   "source": [
    "### 7. Deleting dataframes, series to deallocate memory"
   ]
  },
  {
   "cell_type": "code",
   "execution_count": 13,
   "metadata": {},
   "outputs": [],
   "source": [
    "del df_inv\n",
    "del seed_stage_df\n",
    "del early_stage_df\n",
    "del late_stage_df"
   ]
  }
 ],
 "metadata": {
  "kernelspec": {
   "display_name": "Python 3",
   "language": "python",
   "name": "python3"
  },
  "language_info": {
   "codemirror_mode": {
    "name": "ipython",
    "version": 3
   },
   "file_extension": ".py",
   "mimetype": "text/x-python",
   "name": "python",
   "nbconvert_exporter": "python",
   "pygments_lexer": "ipython3",
   "version": "3.7.3"
  }
 },
 "nbformat": 4,
 "nbformat_minor": 2
}
