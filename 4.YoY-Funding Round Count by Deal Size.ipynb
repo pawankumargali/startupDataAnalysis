{
 "cells": [
  {
   "cell_type": "markdown",
   "metadata": {},
   "source": [
    "### IMPORTS"
   ]
  },
  {
   "cell_type": "code",
   "execution_count": 1,
   "metadata": {},
   "outputs": [],
   "source": [
    "import numpy as np\n",
    "import pandas as pd\n",
    "import matplotlib.pyplot as plt\n",
    "import seaborn as sns\n",
    "%matplotlib inline"
   ]
  },
  {
   "cell_type": "markdown",
   "metadata": {},
   "source": [
    "### 1. Reading data on Investment Rounds in 2008-18 from investments input"
   ]
  },
  {
   "cell_type": "code",
   "execution_count": 2,
   "metadata": {},
   "outputs": [
    {
     "data": {
      "text/html": [
       "<div>\n",
       "<style scoped>\n",
       "    .dataframe tbody tr th:only-of-type {\n",
       "        vertical-align: middle;\n",
       "    }\n",
       "\n",
       "    .dataframe tbody tr th {\n",
       "        vertical-align: top;\n",
       "    }\n",
       "\n",
       "    .dataframe thead th {\n",
       "        text-align: right;\n",
       "    }\n",
       "</style>\n",
       "<table border=\"1\" class=\"dataframe\">\n",
       "  <thead>\n",
       "    <tr style=\"text-align: right;\">\n",
       "      <th></th>\n",
       "      <th>Year</th>\n",
       "      <th>Org_Name</th>\n",
       "      <th>Funding_Round_Type</th>\n",
       "      <th>Funding_Amt_USD</th>\n",
       "      <th>Funding_Stage</th>\n",
       "    </tr>\n",
       "  </thead>\n",
       "  <tbody>\n",
       "    <tr>\n",
       "      <th>0</th>\n",
       "      <td>2018</td>\n",
       "      <td>Zelros</td>\n",
       "      <td>Series A</td>\n",
       "      <td>4532800</td>\n",
       "      <td>Early Stage</td>\n",
       "    </tr>\n",
       "    <tr>\n",
       "      <th>1</th>\n",
       "      <td>2018</td>\n",
       "      <td>Axyon AI</td>\n",
       "      <td>Series Unknown</td>\n",
       "      <td>1473160</td>\n",
       "      <td>Uncategorized</td>\n",
       "    </tr>\n",
       "    <tr>\n",
       "      <th>2</th>\n",
       "      <td>2018</td>\n",
       "      <td>Oriente</td>\n",
       "      <td>Series A</td>\n",
       "      <td>105000000</td>\n",
       "      <td>Early Stage</td>\n",
       "    </tr>\n",
       "  </tbody>\n",
       "</table>\n",
       "</div>"
      ],
      "text/plain": [
       "   Year  Org_Name Funding_Round_Type  Funding_Amt_USD  Funding_Stage\n",
       "0  2018    Zelros           Series A          4532800    Early Stage\n",
       "1  2018  Axyon AI     Series Unknown          1473160  Uncategorized\n",
       "2  2018   Oriente           Series A        105000000    Early Stage"
      ]
     },
     "execution_count": 2,
     "metadata": {},
     "output_type": "execute_result"
    }
   ],
   "source": [
    "#Reading Total Investments Data for all Companies in the sector between 2008-18\n",
    "\n",
    "df_inv = pd.read_csv('./input_data/investmentInput.csv')\n",
    "\n",
    "df_inv.head(3)"
   ]
  },
  {
   "cell_type": "markdown",
   "metadata": {},
   "source": [
    "##### Note:  For categorization details of Funding Round Types into  Funding Stages See investmentDataMunging.ipynb Sl No. 5 for categorization details"
   ]
  },
  {
   "cell_type": "markdown",
   "metadata": {},
   "source": [
    "### 2. Set of All Funding Stages"
   ]
  },
  {
   "cell_type": "code",
   "execution_count": 3,
   "metadata": {},
   "outputs": [
    {
     "name": "stdout",
     "output_type": "stream",
     "text": [
      "['Early Stage' 'Uncategorized' 'Seed' 'Late Stage' 'Private Equity']\n"
     ]
    }
   ],
   "source": [
    "print(df_inv['Funding_Stage'].unique())"
   ]
  },
  {
   "cell_type": "markdown",
   "metadata": {},
   "source": [
    "### 3.  Deal Size Categorization "
   ]
  },
  {
   "cell_type": "markdown",
   "metadata": {},
   "source": [
    "<p><b>Under \\$500k</b></p>\n",
    "<p><b>\\$500k - \\$1M</b></p>\n",
    "<p><b>\\$1M - \\$5M</b></p>\n",
    "<p><b>\\$5M - \\$10M</b></p>"
   ]
  },
  {
   "cell_type": "markdown",
   "metadata": {},
   "source": [
    "### 4. Defining functions to extract and plot  YoY Funding Round Count in each Stage by Deal Size  "
   ]
  },
  {
   "cell_type": "markdown",
   "metadata": {},
   "source": [
    "##### a. Data Extractor Function"
   ]
  },
  {
   "cell_type": "code",
   "execution_count": 4,
   "metadata": {},
   "outputs": [],
   "source": [
    "#Extracts info on YoY Funding Rounds Count in a given Funding Stage based on Deal Size from input dataframe\n",
    "\n",
    "def StageCountByDealSize(fundingStage, df_inp):\n",
    "    \n",
    "    #Extracting funding data relevant to funding stage into df_stage\n",
    "    df_stage = df_inp[df_inp['Funding_Stage']==fundingStage]\n",
    "    \n",
    "    #Extracting YoY funding Rounds by Deal Size for each stage\n",
    "    deals_under500k_count = df_stage['Year'][(df_stage['Funding_Amt_USD']>0) &\n",
    "                                             (df_stage['Funding_Amt_USD']<=500000)\n",
    "                                            ].value_counts()\n",
    "\n",
    "    deals_500k_1M_count = df_stage['Year'][(df_stage['Funding_Amt_USD']>500000) & \n",
    "                                           (df_stage['Funding_Amt_USD']<=1000000)\n",
    "                                          ].value_counts()\n",
    "\n",
    "    deals_1M_5M_count = df_stage['Year'][(df_stage['Funding_Amt_USD']>1000000) & \n",
    "                                         (df_stage['Funding_Amt_USD']<=5000000)\n",
    "                                        ].value_counts()\n",
    "\n",
    "    deals_5M_10M_count = df_stage['Year'][(df_stage['Funding_Amt_USD']>5000000) & \n",
    "                                          (df_stage['Funding_Amt_USD']<=10000000)\n",
    "                                         ].value_counts()\n",
    "    \n",
    "    deals_10M_25M_count = df_stage['Year'][(df_stage['Funding_Amt_USD']>10000000) & \n",
    "                                           (df_stage['Funding_Amt_USD']<=25000000)\n",
    "                                          ].value_counts()\n",
    "    \n",
    "    deals_over25M_count = df_stage['Year'][(df_stage['Funding_Amt_USD']>25000000)\n",
    "                                          ].value_counts()\n",
    "    \n",
    "    deals_count_df = pd.DataFrame({'Under-500k': deals_under500k_count,\n",
    "                                   '500k-1M': deals_500k_1M_count,\n",
    "                                   '1M-5M': deals_1M_5M_count,\n",
    "                                   '5M-10M': deals_5M_10M_count,\n",
    "                                   '10M-25M': deals_10M_25M_count,\n",
    "                                   'Over-25M': deals_over25M_count\n",
    "                                  })\n",
    "    \n",
    "    # Name index as Year\n",
    "    deals_count_df.index.name='Year'\n",
    "    \n",
    "    deals_count_df.fillna(0, inplace=True)\n",
    "    \n",
    "    deals_count_df.reset_index(drop=False, inplace=True)\n",
    "    \n",
    "    # Deleting df_stage dataframe\n",
    "    del df_stage\n",
    "    \n",
    "    return deals_count_df"
   ]
  },
  {
   "cell_type": "markdown",
   "metadata": {},
   "source": [
    "##### b. Plotter function"
   ]
  },
  {
   "cell_type": "code",
   "execution_count": 5,
   "metadata": {},
   "outputs": [],
   "source": [
    "def PlotStageCountbyDealSize(df_inp, plotTitle) :\n",
    "   \n",
    "    # Setting view styles for plotting graph\n",
    "    sns.set(style=\"white\", rc={\"lines.linewidth\": 3})\n",
    "    \n",
    "    #Plotting Stacked Bar Graph: Funding Stage Count  w.r.t Year stacked based on Deal Size \n",
    "    ax=df_inp.plot.bar(x='Year',y=['Under-500k','500k-1M', \n",
    "                                   '1M-5M', '5M-10M',\n",
    "                                   '10M-25M', 'Over-25M'\n",
    "                                  ], stacked=True, figsize=(10,6))\n",
    "    \n",
    "    #Specifying title, labels & legend \n",
    "    ax.set_title(plotTitle,fontdict={'fontsize':13,'fontweight':'bold'})\n",
    "    ax.legend() \n",
    "    ax.set(xlabel='Year', ylabel='Funding Rounds')\n",
    "    \n",
    "    plt.xticks(rotation=0)\n",
    "    \n",
    "    #Resetting view styles to default\n",
    "    sns.set()\n"
   ]
  },
  {
   "cell_type": "markdown",
   "metadata": {},
   "source": [
    "###  5. Extracting data and plotting Results"
   ]
  },
  {
   "cell_type": "markdown",
   "metadata": {},
   "source": [
    "### a. Seed Stage"
   ]
  },
  {
   "cell_type": "code",
   "execution_count": 6,
   "metadata": {},
   "outputs": [
    {
     "data": {
      "text/html": [
       "<div>\n",
       "<style scoped>\n",
       "    .dataframe tbody tr th:only-of-type {\n",
       "        vertical-align: middle;\n",
       "    }\n",
       "\n",
       "    .dataframe tbody tr th {\n",
       "        vertical-align: top;\n",
       "    }\n",
       "\n",
       "    .dataframe thead th {\n",
       "        text-align: right;\n",
       "    }\n",
       "</style>\n",
       "<table border=\"1\" class=\"dataframe\">\n",
       "  <thead>\n",
       "    <tr style=\"text-align: right;\">\n",
       "      <th></th>\n",
       "      <th>Year</th>\n",
       "      <th>Under-500k</th>\n",
       "      <th>500k-1M</th>\n",
       "      <th>1M-5M</th>\n",
       "      <th>5M-10M</th>\n",
       "      <th>10M-25M</th>\n",
       "      <th>Over-25M</th>\n",
       "    </tr>\n",
       "  </thead>\n",
       "  <tbody>\n",
       "    <tr>\n",
       "      <th>0</th>\n",
       "      <td>2009</td>\n",
       "      <td>1</td>\n",
       "      <td>0.0</td>\n",
       "      <td>0.0</td>\n",
       "      <td>0.0</td>\n",
       "      <td>0.0</td>\n",
       "      <td>0.0</td>\n",
       "    </tr>\n",
       "    <tr>\n",
       "      <th>1</th>\n",
       "      <td>2010</td>\n",
       "      <td>2</td>\n",
       "      <td>0.0</td>\n",
       "      <td>0.0</td>\n",
       "      <td>0.0</td>\n",
       "      <td>0.0</td>\n",
       "      <td>0.0</td>\n",
       "    </tr>\n",
       "    <tr>\n",
       "      <th>2</th>\n",
       "      <td>2011</td>\n",
       "      <td>2</td>\n",
       "      <td>0.0</td>\n",
       "      <td>2.0</td>\n",
       "      <td>0.0</td>\n",
       "      <td>0.0</td>\n",
       "      <td>0.0</td>\n",
       "    </tr>\n",
       "  </tbody>\n",
       "</table>\n",
       "</div>"
      ],
      "text/plain": [
       "   Year  Under-500k  500k-1M  1M-5M  5M-10M  10M-25M  Over-25M\n",
       "0  2009           1      0.0    0.0     0.0      0.0       0.0\n",
       "1  2010           2      0.0    0.0     0.0      0.0       0.0\n",
       "2  2011           2      0.0    2.0     0.0      0.0       0.0"
      ]
     },
     "execution_count": 6,
     "metadata": {},
     "output_type": "execute_result"
    }
   ],
   "source": [
    "# Extracting seed_stage No. of Funding Rounds by Deal Size from input df_inv\n",
    "\n",
    "seed_deals_count_df = StageCountByDealSize('Seed',df_inv)\n",
    "\n",
    "seed_deals_count_df.head(3)"
   ]
  },
  {
   "cell_type": "code",
   "execution_count": 7,
   "metadata": {},
   "outputs": [
    {
     "data": {
      "image/png": "[encoded data removed]",
      "text/plain": [
       "<Figure size 720x432 with 1 Axes>"
      ]
     },
     "metadata": {},
     "output_type": "display_data"
    }
   ],
   "source": [
    "#Plotting trends from seed_count_df\n",
    "\n",
    "plotTitle = '4a. Seed - Funding Round Count By Deal Size'\n",
    "\n",
    "PlotStageCountbyDealSize(seed_deals_count_df, plotTitle)\n",
    "\n",
    "#Saving to output png file\n",
    "\n",
    "plt.savefig('./output/plots/4a_YoY-Seed_Count_by_DealSize.png', dpi=100)"
   ]
  },
  {
   "cell_type": "markdown",
   "metadata": {},
   "source": [
    "### b. Early Stage"
   ]
  },
  {
   "cell_type": "code",
   "execution_count": 8,
   "metadata": {},
   "outputs": [
    {
     "data": {
      "text/html": [
       "<div>\n",
       "<style scoped>\n",
       "    .dataframe tbody tr th:only-of-type {\n",
       "        vertical-align: middle;\n",
       "    }\n",
       "\n",
       "    .dataframe tbody tr th {\n",
       "        vertical-align: top;\n",
       "    }\n",
       "\n",
       "    .dataframe thead th {\n",
       "        text-align: right;\n",
       "    }\n",
       "</style>\n",
       "<table border=\"1\" class=\"dataframe\">\n",
       "  <thead>\n",
       "    <tr style=\"text-align: right;\">\n",
       "      <th></th>\n",
       "      <th>Year</th>\n",
       "      <th>Under-500k</th>\n",
       "      <th>500k-1M</th>\n",
       "      <th>1M-5M</th>\n",
       "      <th>5M-10M</th>\n",
       "      <th>10M-25M</th>\n",
       "      <th>Over-25M</th>\n",
       "    </tr>\n",
       "  </thead>\n",
       "  <tbody>\n",
       "    <tr>\n",
       "      <th>0</th>\n",
       "      <td>2008</td>\n",
       "      <td>0.0</td>\n",
       "      <td>0.0</td>\n",
       "      <td>0.0</td>\n",
       "      <td>1</td>\n",
       "      <td>0.0</td>\n",
       "      <td>0.0</td>\n",
       "    </tr>\n",
       "    <tr>\n",
       "      <th>1</th>\n",
       "      <td>2011</td>\n",
       "      <td>0.0</td>\n",
       "      <td>0.0</td>\n",
       "      <td>0.0</td>\n",
       "      <td>1</td>\n",
       "      <td>1.0</td>\n",
       "      <td>0.0</td>\n",
       "    </tr>\n",
       "    <tr>\n",
       "      <th>2</th>\n",
       "      <td>2012</td>\n",
       "      <td>0.0</td>\n",
       "      <td>0.0</td>\n",
       "      <td>3.0</td>\n",
       "      <td>1</td>\n",
       "      <td>1.0</td>\n",
       "      <td>0.0</td>\n",
       "    </tr>\n",
       "  </tbody>\n",
       "</table>\n",
       "</div>"
      ],
      "text/plain": [
       "   Year  Under-500k  500k-1M  1M-5M  5M-10M  10M-25M  Over-25M\n",
       "0  2008         0.0      0.0    0.0       1      0.0       0.0\n",
       "1  2011         0.0      0.0    0.0       1      1.0       0.0\n",
       "2  2012         0.0      0.0    3.0       1      1.0       0.0"
      ]
     },
     "execution_count": 8,
     "metadata": {},
     "output_type": "execute_result"
    }
   ],
   "source": [
    "# Extracting early_stage No. of Funding Rounds by Deal Size from input df_inv\n",
    "\n",
    "early_stage_deals_count_df = StageCountByDealSize('Early Stage',df_inv)\n",
    "\n",
    "early_stage_deals_count_df.head(3)"
   ]
  },
  {
   "cell_type": "code",
   "execution_count": 9,
   "metadata": {},
   "outputs": [
    {
     "data": {
      "image/png": "[encoded data removed]",
      "text/plain": [
       "<Figure size 720x432 with 1 Axes>"
      ]
     },
     "metadata": {},
     "output_type": "display_data"
    }
   ],
   "source": [
    "#Plotting trends from early_stage_deals_count_df \n",
    "\n",
    "plotTitle = '4b. Early Stage - Funding Round Count By Deal Size'\n",
    "\n",
    "PlotStageCountbyDealSize(early_stage_deals_count_df, plotTitle)\n",
    "\n",
    "#Saving to output png file\n",
    "\n",
    "plt.savefig('./output/plots/4b_YoY-EarlyStage_Count_by_DealSize.png', dpi=100)"
   ]
  },
  {
   "cell_type": "markdown",
   "metadata": {},
   "source": [
    "### c. Late Stage"
   ]
  },
  {
   "cell_type": "code",
   "execution_count": 10,
   "metadata": {},
   "outputs": [
    {
     "data": {
      "text/html": [
       "<div>\n",
       "<style scoped>\n",
       "    .dataframe tbody tr th:only-of-type {\n",
       "        vertical-align: middle;\n",
       "    }\n",
       "\n",
       "    .dataframe tbody tr th {\n",
       "        vertical-align: top;\n",
       "    }\n",
       "\n",
       "    .dataframe thead th {\n",
       "        text-align: right;\n",
       "    }\n",
       "</style>\n",
       "<table border=\"1\" class=\"dataframe\">\n",
       "  <thead>\n",
       "    <tr style=\"text-align: right;\">\n",
       "      <th></th>\n",
       "      <th>Year</th>\n",
       "      <th>Under-500k</th>\n",
       "      <th>500k-1M</th>\n",
       "      <th>1M-5M</th>\n",
       "      <th>5M-10M</th>\n",
       "      <th>10M-25M</th>\n",
       "      <th>Over-25M</th>\n",
       "    </tr>\n",
       "  </thead>\n",
       "  <tbody>\n",
       "    <tr>\n",
       "      <th>0</th>\n",
       "      <td>2013</td>\n",
       "      <td>0.0</td>\n",
       "      <td>1.0</td>\n",
       "      <td>0.0</td>\n",
       "      <td>0.0</td>\n",
       "      <td>2.0</td>\n",
       "      <td>0.0</td>\n",
       "    </tr>\n",
       "    <tr>\n",
       "      <th>1</th>\n",
       "      <td>2014</td>\n",
       "      <td>0.0</td>\n",
       "      <td>0.0</td>\n",
       "      <td>0.0</td>\n",
       "      <td>1.0</td>\n",
       "      <td>0.0</td>\n",
       "      <td>0.0</td>\n",
       "    </tr>\n",
       "    <tr>\n",
       "      <th>2</th>\n",
       "      <td>2015</td>\n",
       "      <td>0.0</td>\n",
       "      <td>0.0</td>\n",
       "      <td>0.0</td>\n",
       "      <td>0.0</td>\n",
       "      <td>1.0</td>\n",
       "      <td>2.0</td>\n",
       "    </tr>\n",
       "  </tbody>\n",
       "</table>\n",
       "</div>"
      ],
      "text/plain": [
       "   Year  Under-500k  500k-1M  1M-5M  5M-10M  10M-25M  Over-25M\n",
       "0  2013         0.0      1.0    0.0     0.0      2.0       0.0\n",
       "1  2014         0.0      0.0    0.0     1.0      0.0       0.0\n",
       "2  2015         0.0      0.0    0.0     0.0      1.0       2.0"
      ]
     },
     "execution_count": 10,
     "metadata": {},
     "output_type": "execute_result"
    }
   ],
   "source": [
    "# Extracting seed_stage No. of Funding Rounds by Deal Size from input df_inv\n",
    "\n",
    "late_stage_deals_count_df = StageCountByDealSize('Late Stage',df_inv)\n",
    "\n",
    "late_stage_deals_count_df.head(3)"
   ]
  },
  {
   "cell_type": "code",
   "execution_count": 11,
   "metadata": {},
   "outputs": [
    {
     "data": {
      "image/png": "[encoded data removed]",
      "text/plain": [
       "<Figure size 720x432 with 1 Axes>"
      ]
     },
     "metadata": {},
     "output_type": "display_data"
    }
   ],
   "source": [
    "#Plotting trends from late_stage_deals_count_df\n",
    "\n",
    "plotTitle = '4c. Late Stage - Funding Round Count By Deal Size'\n",
    "\n",
    "PlotStageCountbyDealSize(late_stage_deals_count_df, plotTitle)\n",
    "\n",
    "#Saving to output png file\n",
    "\n",
    "plt.savefig('./output/plots/4c_YoY-LateStage_Count_by_DealSize.png', dpi=100)"
   ]
  },
  {
   "cell_type": "markdown",
   "metadata": {},
   "source": [
    "### 6. Saving results to file"
   ]
  },
  {
   "cell_type": "code",
   "execution_count": 12,
   "metadata": {},
   "outputs": [],
   "source": [
    "# Writing data to output excel file\n",
    "\n",
    "from openpyxl import load_workbook\n",
    "\n",
    "book = load_workbook('./output/outputData.xlsx')\n",
    "\n",
    "writer = pd.ExcelWriter('./output/outputData.xlsx', engine='openpyxl')\n",
    "\n",
    "writer.book = book\n",
    "\n",
    "writer.sheets = dict((ws.title, ws) for ws in book.worksheets)\n",
    "\n",
    "seed_deals_count_df.to_excel(writer, '4a.YoY-Seed_Rounds_by_DealSize', index=False)\n",
    "\n",
    "early_stage_deals_count_df.to_excel(writer,'4b.YoY-Early_Rounds_by_DealSize', index=False)\n",
    "\n",
    "late_stage_deals_count_df.to_excel(writer,'4c.YoY-Late_Rounds_by_DealSize', index=False)\n",
    "\n",
    "writer.save()"
   ]
  },
  {
   "cell_type": "markdown",
   "metadata": {},
   "source": [
    "### 7. Deleting dataframes to deallocate memory"
   ]
  },
  {
   "cell_type": "code",
   "execution_count": 13,
   "metadata": {},
   "outputs": [],
   "source": [
    "del df_inv\n",
    "del seed_deals_count_df\n",
    "del early_stage_deals_count_df\n",
    "del late_stage_deals_count_df"
   ]
  }
 ],
 "metadata": {
  "kernelspec": {
   "display_name": "Python 3",
   "language": "python",
   "name": "python3"
  },
  "language_info": {
   "codemirror_mode": {
    "name": "ipython",
    "version": 3
   },
   "file_extension": ".py",
   "mimetype": "text/x-python",
   "name": "python",
   "nbconvert_exporter": "python",
   "pygments_lexer": "ipython3",
   "version": "3.7.3"
  }
 },
 "nbformat": 4,
 "nbformat_minor": 2
}
