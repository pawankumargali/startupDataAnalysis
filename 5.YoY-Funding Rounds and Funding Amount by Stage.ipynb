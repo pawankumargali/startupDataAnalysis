{
 "cells": [
  {
   "cell_type": "markdown",
   "metadata": {},
   "source": [
    "### IMPORTS"
   ]
  },
  {
   "cell_type": "code",
   "execution_count": 1,
   "metadata": {},
   "outputs": [],
   "source": [
    "import numpy as np\n",
    "import pandas as pd\n",
    "import matplotlib.pyplot as plt\n",
    "import seaborn as sns\n",
    "%matplotlib inline"
   ]
  },
  {
   "cell_type": "markdown",
   "metadata": {},
   "source": [
    "### 1. Reading data on Investment Rounds in 2008-18 from investments input"
   ]
  },
  {
   "cell_type": "code",
   "execution_count": 2,
   "metadata": {},
   "outputs": [
    {
     "data": {
      "text/html": [
       "<div>\n",
       "<style scoped>\n",
       "    .dataframe tbody tr th:only-of-type {\n",
       "        vertical-align: middle;\n",
       "    }\n",
       "\n",
       "    .dataframe tbody tr th {\n",
       "        vertical-align: top;\n",
       "    }\n",
       "\n",
       "    .dataframe thead th {\n",
       "        text-align: right;\n",
       "    }\n",
       "</style>\n",
       "<table border=\"1\" class=\"dataframe\">\n",
       "  <thead>\n",
       "    <tr style=\"text-align: right;\">\n",
       "      <th></th>\n",
       "      <th>Year</th>\n",
       "      <th>Org_Name</th>\n",
       "      <th>Funding_Round_Type</th>\n",
       "      <th>Funding_Amt_USD</th>\n",
       "      <th>Funding_Stage</th>\n",
       "    </tr>\n",
       "  </thead>\n",
       "  <tbody>\n",
       "    <tr>\n",
       "      <th>0</th>\n",
       "      <td>2018</td>\n",
       "      <td>Zelros</td>\n",
       "      <td>Series A</td>\n",
       "      <td>4532800</td>\n",
       "      <td>Early Stage</td>\n",
       "    </tr>\n",
       "    <tr>\n",
       "      <th>1</th>\n",
       "      <td>2018</td>\n",
       "      <td>Axyon AI</td>\n",
       "      <td>Series Unknown</td>\n",
       "      <td>1473160</td>\n",
       "      <td>Uncategorized</td>\n",
       "    </tr>\n",
       "    <tr>\n",
       "      <th>2</th>\n",
       "      <td>2018</td>\n",
       "      <td>Oriente</td>\n",
       "      <td>Series A</td>\n",
       "      <td>105000000</td>\n",
       "      <td>Early Stage</td>\n",
       "    </tr>\n",
       "  </tbody>\n",
       "</table>\n",
       "</div>"
      ],
      "text/plain": [
       "   Year  Org_Name Funding_Round_Type  Funding_Amt_USD  Funding_Stage\n",
       "0  2018    Zelros           Series A          4532800    Early Stage\n",
       "1  2018  Axyon AI     Series Unknown          1473160  Uncategorized\n",
       "2  2018   Oriente           Series A        105000000    Early Stage"
      ]
     },
     "execution_count": 2,
     "metadata": {},
     "output_type": "execute_result"
    }
   ],
   "source": [
    "#Reading Total Investments Data for all Companies in the sector between 2008-18\n",
    "\n",
    "df_inv = pd.read_csv('./input_data/investmentInput.csv')\n",
    "\n",
    "df_inv.head(3)"
   ]
  },
  {
   "cell_type": "markdown",
   "metadata": {},
   "source": [
    "\n",
    "### 2. Defining functions to extract data on YoY  rounds by Stage, plot and save results"
   ]
  },
  {
   "cell_type": "markdown",
   "metadata": {},
   "source": [
    "#### a. Series Extractor Function"
   ]
  },
  {
   "cell_type": "code",
   "execution_count": 3,
   "metadata": {},
   "outputs": [],
   "source": [
    "def RoundsOrFundingByStage(fundingStage,df_inp,get_rounds=False, get_amount=False):\n",
    "    \n",
    "    #Extracting stage wise data from df_inp to df_stage\n",
    "    df_stage = df_inp[df_inp['Funding_Stage']==fundingStage]\n",
    "    \n",
    "    #Grouping data by Year in stage\n",
    "    group = df_stage.groupby(by='Year',axis=0)\n",
    "    \n",
    "    #Deleting dataframe df_inp and df_stage\n",
    "    del df_inp\n",
    "    del df_stage\n",
    "    \n",
    "    if(get_rounds==True):\n",
    "    \n",
    "        # Getting series on YoY Funding Rounds for particular stage\n",
    "        stage_rounds_ser = group['Org_Name'].count()\n",
    "    \n",
    "        return stage_rounds_ser\n",
    "\n",
    "    if(get_amount==True):\n",
    "    \n",
    "        #Getting series on YoY Funding Amount for particular stage\n",
    "        stage_amt_ser = group['Funding_Amt_USD'].sum()\n",
    "        \n",
    "        return stage_amt_ser"
   ]
  },
  {
   "cell_type": "markdown",
   "metadata": {},
   "source": [
    "#### b. Function to generate df from stage series"
   ]
  },
  {
   "cell_type": "code",
   "execution_count": 4,
   "metadata": {},
   "outputs": [],
   "source": [
    "def dfGenFromStageSeries(seed_ser, early_stage_ser, late_stage_ser):\n",
    "    # Creating dataframe from above series\n",
    "    df_all_stages = pd.DataFrame({'Seed':seed_ser,\n",
    "                                       'Early Stage': early_stage_ser,\n",
    "                                       'Late Stage': late_stage_ser\n",
    "                                      })\n",
    "    # Filling Na Values\n",
    "    df_all_stages.fillna(0, inplace=True)\n",
    "\n",
    "    # Renaming index\n",
    "    df_all_stages.index.name='Year'\n",
    "\n",
    "    # Resetting index\n",
    "    df_all_stages.reset_index(drop=False,inplace=True)\n",
    "    \n",
    "    return df_all_stages\n",
    "    "
   ]
  },
  {
   "cell_type": "markdown",
   "metadata": {},
   "source": [
    "#### c. Plotter Function"
   ]
  },
  {
   "cell_type": "code",
   "execution_count": 5,
   "metadata": {},
   "outputs": [],
   "source": [
    "def PlotRoundsOrFundingByStage(df_inp, plotTitle):\n",
    "\n",
    "    sns.set(style=\"white\", rc={\"lines.linewidth\": 3})\n",
    "\n",
    "    ax = df_inp.plot.area(x='Year',stacked=True, figsize = (8, 6))\n",
    "\n",
    "    ax.set_title(plotTitle ,fontdict={'fontsize':13,'fontweight':'bold'})\n",
    "\n",
    "    ax.legend() \n",
    "\n",
    "    ax.set(xlabel='Year', ylabel='Funding Amount in USD')\n",
    "\n",
    "    plt.xticks(np.arange(start=2008, stop=2019, step=1))\n",
    "\n",
    "    sns.set()"
   ]
  },
  {
   "cell_type": "markdown",
   "metadata": {},
   "source": [
    "### 3. Year on Year – Number of Rounds by Stage"
   ]
  },
  {
   "cell_type": "markdown",
   "metadata": {},
   "source": [
    "#### Extracting data"
   ]
  },
  {
   "cell_type": "code",
   "execution_count": 6,
   "metadata": {},
   "outputs": [],
   "source": [
    "# YoY No. of Funding Rounds in Seed stage\n",
    "seed_rounds_ser = RoundsOrFundingByStage('Seed',df_inv,get_rounds=True)\n",
    "\n",
    "# YoY No. of Funding Rounds in Early stage\n",
    "early_stage_rounds_ser = RoundsOrFundingByStage('Early Stage',df_inv,get_rounds=True)\n",
    "\n",
    "# YoY No. of Funding Rounds in Late stage\n",
    "late_stage_rounds_ser = RoundsOrFundingByStage('Late Stage',df_inv,get_rounds=True)\n",
    "\n",
    "#Generate dataframe from extracted series \n",
    "df_rounds = dfGenFromStageSeries(seed_rounds_ser, early_stage_rounds_ser, late_stage_rounds_ser)"
   ]
  },
  {
   "cell_type": "code",
   "execution_count": 7,
   "metadata": {},
   "outputs": [
    {
     "data": {
      "text/html": [
       "<div>\n",
       "<style scoped>\n",
       "    .dataframe tbody tr th:only-of-type {\n",
       "        vertical-align: middle;\n",
       "    }\n",
       "\n",
       "    .dataframe tbody tr th {\n",
       "        vertical-align: top;\n",
       "    }\n",
       "\n",
       "    .dataframe thead th {\n",
       "        text-align: right;\n",
       "    }\n",
       "</style>\n",
       "<table border=\"1\" class=\"dataframe\">\n",
       "  <thead>\n",
       "    <tr style=\"text-align: right;\">\n",
       "      <th></th>\n",
       "      <th>Year</th>\n",
       "      <th>Seed</th>\n",
       "      <th>Early Stage</th>\n",
       "      <th>Late Stage</th>\n",
       "    </tr>\n",
       "  </thead>\n",
       "  <tbody>\n",
       "    <tr>\n",
       "      <th>0</th>\n",
       "      <td>2008</td>\n",
       "      <td>0.0</td>\n",
       "      <td>1.0</td>\n",
       "      <td>0.0</td>\n",
       "    </tr>\n",
       "    <tr>\n",
       "      <th>1</th>\n",
       "      <td>2009</td>\n",
       "      <td>1.0</td>\n",
       "      <td>0.0</td>\n",
       "      <td>0.0</td>\n",
       "    </tr>\n",
       "    <tr>\n",
       "      <th>2</th>\n",
       "      <td>2010</td>\n",
       "      <td>4.0</td>\n",
       "      <td>0.0</td>\n",
       "      <td>0.0</td>\n",
       "    </tr>\n",
       "  </tbody>\n",
       "</table>\n",
       "</div>"
      ],
      "text/plain": [
       "   Year  Seed  Early Stage  Late Stage\n",
       "0  2008   0.0          1.0         0.0\n",
       "1  2009   1.0          0.0         0.0\n",
       "2  2010   4.0          0.0         0.0"
      ]
     },
     "execution_count": 7,
     "metadata": {},
     "output_type": "execute_result"
    }
   ],
   "source": [
    "df_rounds.head(3)"
   ]
  },
  {
   "cell_type": "markdown",
   "metadata": {},
   "source": [
    "#### Plotting results"
   ]
  },
  {
   "cell_type": "code",
   "execution_count": 8,
   "metadata": {},
   "outputs": [
    {
     "data": {
      "image/png": "[encoded data removed]",
      "text/plain": [
       "<Figure size 576x432 with 1 Axes>"
      ]
     },
     "metadata": {},
     "output_type": "display_data"
    }
   ],
   "source": [
    "#Plotting results from df_rounds\n",
    "\n",
    "plotTitle = '5a. Year on Year No. of Funding Rounds by Stage'\n",
    "\n",
    "PlotRoundsOrFundingByStage(df_rounds, plotTitle)\n",
    "\n",
    "#Saving to output png file\n",
    "\n",
    "plt.savefig('./output/plots/5a_YoY-Funding_Rounds_by_Stage.png', dpi=100)"
   ]
  },
  {
   "cell_type": "markdown",
   "metadata": {},
   "source": [
    "### 4. Year on Year – Funding Amount  by Stage"
   ]
  },
  {
   "cell_type": "markdown",
   "metadata": {},
   "source": [
    "#### Extracting data"
   ]
  },
  {
   "cell_type": "code",
   "execution_count": 9,
   "metadata": {},
   "outputs": [],
   "source": [
    "# YoY No. of Funding Amount in Seed stage\n",
    "seed_amt_ser = RoundsOrFundingByStage('Seed',df_inv, get_amount=True)\n",
    "\n",
    "# YoY No. of Funding Rounds in Early stage\n",
    "early_stage_amt_ser = RoundsOrFundingByStage('Early Stage',df_inv, get_amount=True)\n",
    "\n",
    "# YoY No. of Funding Rounds in Late stage\n",
    "late_stage_amt_ser = RoundsOrFundingByStage('Late Stage',df_inv, get_amount=True)\n",
    "\n",
    "#Generate dataframe from extracted series \n",
    "df_amt = dfGenFromStageSeries(seed_amt_ser, early_stage_amt_ser, late_stage_amt_ser)"
   ]
  },
  {
   "cell_type": "markdown",
   "metadata": {},
   "source": [
    "#### Plotting results"
   ]
  },
  {
   "cell_type": "code",
   "execution_count": 10,
   "metadata": {},
   "outputs": [
    {
     "data": {
      "image/png": "[encoded data removed]",
      "text/plain": [
       "<Figure size 576x432 with 1 Axes>"
      ]
     },
     "metadata": {},
     "output_type": "display_data"
    }
   ],
   "source": [
    "#Plotting results from df_amt\n",
    "\n",
    "plotTitle = '5b. Year on Year Funding Amount by Stage'\n",
    "\n",
    "PlotRoundsOrFundingByStage(df_amt, plotTitle)\n",
    "\n",
    "#Saving to output png file\n",
    "\n",
    "plt.savefig('./output/plots/5b_YoY-Funding_Amount_by_Stage.png', dpi=100)"
   ]
  },
  {
   "cell_type": "markdown",
   "metadata": {},
   "source": [
    "### 5. Saving results to file"
   ]
  },
  {
   "cell_type": "code",
   "execution_count": 11,
   "metadata": {},
   "outputs": [],
   "source": [
    "# Writing data to output excel file\n",
    "\n",
    "from openpyxl import load_workbook\n",
    "\n",
    "book = load_workbook('./output/outputData.xlsx')\n",
    "\n",
    "writer = pd.ExcelWriter('./output/outputData.xlsx', engine='openpyxl')\n",
    "\n",
    "writer.book = book\n",
    "\n",
    "writer.sheets = dict((ws.title, ws) for ws in book.worksheets)\n",
    "\n",
    "df_rounds.to_excel(writer, '5a.YoY-Rounds_by_Stage', index=False)\n",
    "\n",
    "df_amt.to_excel(writer,'5b.YoY-Funding_by_Stage', index=False)\n",
    "\n",
    "writer.save()"
   ]
  },
  {
   "cell_type": "markdown",
   "metadata": {},
   "source": [
    "### 6.  Deleting dataframes"
   ]
  },
  {
   "cell_type": "code",
   "execution_count": 12,
   "metadata": {},
   "outputs": [],
   "source": [
    "del df_inv\n",
    "del df_rounds\n",
    "del df_amt"
   ]
  }
 ],
 "metadata": {
  "kernelspec": {
   "display_name": "Python 3",
   "language": "python",
   "name": "python3"
  },
  "language_info": {
   "codemirror_mode": {
    "name": "ipython",
    "version": 3
   },
   "file_extension": ".py",
   "mimetype": "text/x-python",
   "name": "python",
   "nbconvert_exporter": "python",
   "pygments_lexer": "ipython3",
   "version": "3.7.3"
  }
 },
 "nbformat": 4,
 "nbformat_minor": 2
}
