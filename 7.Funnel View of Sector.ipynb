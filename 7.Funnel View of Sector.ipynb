{
 "cells": [
  {
   "cell_type": "markdown",
   "metadata": {},
   "source": [
    "### IMPORTS"
   ]
  },
  {
   "cell_type": "code",
   "execution_count": 1,
   "metadata": {},
   "outputs": [],
   "source": [
    "import numpy as np\n",
    "import pandas as pd\n",
    "import matplotlib.pyplot as plt\n",
    "import seaborn as sns\n",
    "%matplotlib inline"
   ]
  },
  {
   "cell_type": "markdown",
   "metadata": {},
   "source": [
    "### 1. Reading companies data from input csv"
   ]
  },
  {
   "cell_type": "code",
   "execution_count": 2,
   "metadata": {},
   "outputs": [
    {
     "data": {
      "text/html": [
       "<div>\n",
       "<style scoped>\n",
       "    .dataframe tbody tr th:only-of-type {\n",
       "        vertical-align: middle;\n",
       "    }\n",
       "\n",
       "    .dataframe tbody tr th {\n",
       "        vertical-align: top;\n",
       "    }\n",
       "\n",
       "    .dataframe thead th {\n",
       "        text-align: right;\n",
       "    }\n",
       "</style>\n",
       "<table border=\"1\" class=\"dataframe\">\n",
       "  <thead>\n",
       "    <tr style=\"text-align: right;\">\n",
       "      <th></th>\n",
       "      <th>Founded_Year</th>\n",
       "      <th>Organization Name</th>\n",
       "      <th>Funding Status</th>\n",
       "      <th>Last_Funding_Year</th>\n",
       "      <th>Last Funding Type</th>\n",
       "    </tr>\n",
       "  </thead>\n",
       "  <tbody>\n",
       "    <tr>\n",
       "      <th>0</th>\n",
       "      <td>2014</td>\n",
       "      <td>Heliocor</td>\n",
       "      <td>Seed</td>\n",
       "      <td>2018.0</td>\n",
       "      <td>Pre-Seed</td>\n",
       "    </tr>\n",
       "    <tr>\n",
       "      <th>1</th>\n",
       "      <td>2017</td>\n",
       "      <td>Oriente</td>\n",
       "      <td>Early Stage Venture</td>\n",
       "      <td>2018.0</td>\n",
       "      <td>Series A</td>\n",
       "    </tr>\n",
       "    <tr>\n",
       "      <th>2</th>\n",
       "      <td>2015</td>\n",
       "      <td>Lemonade</td>\n",
       "      <td>Late Stage Venture</td>\n",
       "      <td>2017.0</td>\n",
       "      <td>Series C</td>\n",
       "    </tr>\n",
       "  </tbody>\n",
       "</table>\n",
       "</div>"
      ],
      "text/plain": [
       "   Founded_Year Organization Name       Funding Status  Last_Funding_Year  \\\n",
       "0          2014          Heliocor                 Seed             2018.0   \n",
       "1          2017           Oriente  Early Stage Venture             2018.0   \n",
       "2          2015          Lemonade   Late Stage Venture             2017.0   \n",
       "\n",
       "  Last Funding Type  \n",
       "0          Pre-Seed  \n",
       "1          Series A  \n",
       "2          Series C  "
      ]
     },
     "execution_count": 2,
     "metadata": {},
     "output_type": "execute_result"
    }
   ],
   "source": [
    "df_comp = pd.read_csv('./input_data/companyInput.csv')  \n",
    "\n",
    "df_comp.head(3)"
   ]
  },
  {
   "cell_type": "markdown",
   "metadata": {},
   "source": [
    "### 2. Funnel view of Sector"
   ]
  },
  {
   "cell_type": "markdown",
   "metadata": {},
   "source": [
    "<p><b>Funnel View -</b> Horizontal plot that describes count of companies as follows:</p><br>\n",
    "1.Founded<br>\n",
    "2.Funded<br>\n",
    "3.Seed Stage<br>\n",
    "4.Early Stage<br>\n",
    "5.Late Stage<br>\n",
    "6.Private Equity<br>\n",
    "7.IPO<br>\n",
    "8.Merger &amp; Acquisition"
   ]
  },
  {
   "cell_type": "markdown",
   "metadata": {},
   "source": [
    "#### a. Create dictionary to hold count values"
   ]
  },
  {
   "cell_type": "code",
   "execution_count": 3,
   "metadata": {},
   "outputs": [],
   "source": [
    "stage_count = {}"
   ]
  },
  {
   "cell_type": "markdown",
   "metadata": {},
   "source": [
    "#### b. Adding  count of Founded and Funded companies to dictionary"
   ]
  },
  {
   "cell_type": "code",
   "execution_count": 4,
   "metadata": {},
   "outputs": [],
   "source": [
    "# Adding founded count to stage_count\n",
    "founded_count = df_comp['Founded_Year'].count()\n",
    "\n",
    "stage_count.update({'Founded':founded_count})\n",
    "\n",
    "\n",
    "# Adding funded count to stage_count\n",
    "funded_count = df_comp['Last_Funding_Year'].count()\n",
    "\n",
    "stage_count.update({'Funded':funded_count})"
   ]
  },
  {
   "cell_type": "markdown",
   "metadata": {},
   "source": [
    "#### c. Adding counts of Seed, Early Stage, Late Stage, M&A, Private Equity and IPO"
   ]
  },
  {
   "cell_type": "code",
   "execution_count": 5,
   "metadata": {},
   "outputs": [
    {
     "name": "stdout",
     "output_type": "stream",
     "text": [
      "['Seed', 'Early Stage Venture', 'Late Stage Venture', nan, 'M&A', 'Private Equity', 'IPO']\n"
     ]
    }
   ],
   "source": [
    "# Creating list of Funding Status types\n",
    "\n",
    "stage_lst = list(df_comp['Funding Status'].unique())\n",
    "\n",
    "print(stage_lst)"
   ]
  },
  {
   "cell_type": "code",
   "execution_count": 6,
   "metadata": {},
   "outputs": [
    {
     "name": "stdout",
     "output_type": "stream",
     "text": [
      "{'Founded': 674, 'Funded': 405, 'Seed': 225, 'Early Stage Venture': 74, 'Late Stage Venture': 14, 'M&A': 12, 'Private Equity': 1, 'IPO': 1}\n"
     ]
    }
   ],
   "source": [
    "# Adding count of number of companies in each Funding Stage to stage_count\n",
    "\n",
    "for stage in stage_lst :\n",
    "    count =df_comp['Funding Status'][df_comp['Funding Status']==stage].count()\n",
    "    if(count>0):\n",
    "        stage_count.update({stage:count})\n",
    "\n",
    "print(stage_count)"
   ]
  },
  {
   "cell_type": "markdown",
   "metadata": {},
   "source": [
    "#### d. Converting count dictionary to dataframe"
   ]
  },
  {
   "cell_type": "code",
   "execution_count": 7,
   "metadata": {},
   "outputs": [],
   "source": [
    "# Converting stage_count to count_df dataframe\n",
    "count_df = pd.Series(stage_count).to_frame('Count')\n",
    "\n",
    "# Resetting Index \n",
    "count_df.index.name = 'Stage'\n",
    "\n",
    "count_df.reset_index(drop=False, inplace=True)"
   ]
  },
  {
   "cell_type": "code",
   "execution_count": 8,
   "metadata": {},
   "outputs": [
    {
     "data": {
      "text/html": [
       "<div>\n",
       "<style scoped>\n",
       "    .dataframe tbody tr th:only-of-type {\n",
       "        vertical-align: middle;\n",
       "    }\n",
       "\n",
       "    .dataframe tbody tr th {\n",
       "        vertical-align: top;\n",
       "    }\n",
       "\n",
       "    .dataframe thead th {\n",
       "        text-align: right;\n",
       "    }\n",
       "</style>\n",
       "<table border=\"1\" class=\"dataframe\">\n",
       "  <thead>\n",
       "    <tr style=\"text-align: right;\">\n",
       "      <th></th>\n",
       "      <th>Stage</th>\n",
       "      <th>Count</th>\n",
       "    </tr>\n",
       "  </thead>\n",
       "  <tbody>\n",
       "    <tr>\n",
       "      <th>0</th>\n",
       "      <td>Founded</td>\n",
       "      <td>674</td>\n",
       "    </tr>\n",
       "    <tr>\n",
       "      <th>1</th>\n",
       "      <td>Funded</td>\n",
       "      <td>405</td>\n",
       "    </tr>\n",
       "    <tr>\n",
       "      <th>2</th>\n",
       "      <td>Seed</td>\n",
       "      <td>225</td>\n",
       "    </tr>\n",
       "  </tbody>\n",
       "</table>\n",
       "</div>"
      ],
      "text/plain": [
       "     Stage  Count\n",
       "0  Founded    674\n",
       "1   Funded    405\n",
       "2     Seed    225"
      ]
     },
     "execution_count": 8,
     "metadata": {},
     "output_type": "execute_result"
    }
   ],
   "source": [
    "count_df.head(3)"
   ]
  },
  {
   "cell_type": "markdown",
   "metadata": {},
   "source": [
    "### 3. Plotting  Funnel view "
   ]
  },
  {
   "cell_type": "code",
   "execution_count": 9,
   "metadata": {},
   "outputs": [
    {
     "data": {
      "image/png": "[encoded data removed]",
      "text/plain": [
       "<Figure size 720x360 with 1 Axes>"
      ]
     },
     "metadata": {},
     "output_type": "display_data"
    }
   ],
   "source": [
    "#Plotting Trends\n",
    "\n",
    "plotTitle = '7. Funnel View of Sector'\n",
    "\n",
    "sns.set(style=\"white\", rc={\"lines.linewidth\": 3})\n",
    "\n",
    "fig, ax = plt.subplots(figsize=(10, 5))\n",
    "\n",
    "ax.set_title(plotTitle,fontdict={'fontsize':13,'fontweight':'bold'})\n",
    "\n",
    "sns.barplot(x='Count',\n",
    "            y='Stage',\n",
    "            data=count_df,\n",
    "            color='#004488',\n",
    "            ax=ax,\n",
    "            )\n",
    "\n",
    "ax.set_ylabel('')\n",
    "\n",
    "sns.despine()\n",
    "\n",
    "sns.set()\n",
    "\n",
    "\n",
    "# Saving plot to output .png file\n",
    "\n",
    "plt.savefig('./output/plots/7_Funnel_View.png', dpi=100)"
   ]
  },
  {
   "cell_type": "markdown",
   "metadata": {},
   "source": [
    "### 4. Saving results to file"
   ]
  },
  {
   "cell_type": "code",
   "execution_count": 10,
   "metadata": {},
   "outputs": [],
   "source": [
    "# Writing data to output excel file\n",
    "\n",
    "from openpyxl import load_workbook\n",
    "\n",
    "book = load_workbook('./output/outputData.xlsx')\n",
    "\n",
    "writer = pd.ExcelWriter('./output/outputData.xlsx', engine='openpyxl')\n",
    "\n",
    "writer.book = book\n",
    "\n",
    "writer.sheets = dict((ws.title, ws) for ws in book.worksheets)\n",
    "\n",
    "count_df.to_excel(writer, '7.Funnel_View', index=False)\n",
    "\n",
    "writer.save()"
   ]
  },
  {
   "cell_type": "markdown",
   "metadata": {},
   "source": [
    "### 5. Deleting dataframes, series to deallocate memory"
   ]
  },
  {
   "cell_type": "code",
   "execution_count": 11,
   "metadata": {},
   "outputs": [],
   "source": [
    "del df_comp\n",
    "del count_df"
   ]
  }
 ],
 "metadata": {
  "kernelspec": {
   "display_name": "Python 3",
   "language": "python",
   "name": "python3"
  },
  "language_info": {
   "codemirror_mode": {
    "name": "ipython",
    "version": 3
   },
   "file_extension": ".py",
   "mimetype": "text/x-python",
   "name": "python",
   "nbconvert_exporter": "python",
   "pygments_lexer": "ipython3",
   "version": "3.7.3"
  }
 },
 "nbformat": 4,
 "nbformat_minor": 2
}
