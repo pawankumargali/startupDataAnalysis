{
 "cells": [
  {
   "cell_type": "markdown",
   "metadata": {},
   "source": [
    "### IMPORTS"
   ]
  },
  {
   "cell_type": "code",
   "execution_count": 1,
   "metadata": {},
   "outputs": [],
   "source": [
    "import numpy as np\n",
    "import pandas as pd"
   ]
  },
  {
   "cell_type": "markdown",
   "metadata": {},
   "source": [
    "###  1. Reading  raw companies data  from csv file"
   ]
  },
  {
   "cell_type": "code",
   "execution_count": 2,
   "metadata": {},
   "outputs": [
    {
     "data": {
      "text/html": [
       "<div>\n",
       "<style scoped>\n",
       "    .dataframe tbody tr th:only-of-type {\n",
       "        vertical-align: middle;\n",
       "    }\n",
       "\n",
       "    .dataframe tbody tr th {\n",
       "        vertical-align: top;\n",
       "    }\n",
       "\n",
       "    .dataframe thead th {\n",
       "        text-align: right;\n",
       "    }\n",
       "</style>\n",
       "<table border=\"1\" class=\"dataframe\">\n",
       "  <thead>\n",
       "    <tr style=\"text-align: right;\">\n",
       "      <th></th>\n",
       "      <th>Founded Date</th>\n",
       "      <th>Organization Name</th>\n",
       "      <th>Funding Status</th>\n",
       "      <th>Last Funding Date</th>\n",
       "      <th>Last Funding Type</th>\n",
       "    </tr>\n",
       "  </thead>\n",
       "  <tbody>\n",
       "    <tr>\n",
       "      <th>0</th>\n",
       "      <td>2014-08-30</td>\n",
       "      <td>Heliocor</td>\n",
       "      <td>Seed</td>\n",
       "      <td>2018-11-01</td>\n",
       "      <td>Pre-Seed</td>\n",
       "    </tr>\n",
       "    <tr>\n",
       "      <th>1</th>\n",
       "      <td>2017-04-01</td>\n",
       "      <td>Oriente</td>\n",
       "      <td>Early Stage Venture</td>\n",
       "      <td>2018-11-28</td>\n",
       "      <td>Series A</td>\n",
       "    </tr>\n",
       "    <tr>\n",
       "      <th>2</th>\n",
       "      <td>2015-01-01</td>\n",
       "      <td>Lemonade</td>\n",
       "      <td>Late Stage Venture</td>\n",
       "      <td>2017-12-19</td>\n",
       "      <td>Series C</td>\n",
       "    </tr>\n",
       "  </tbody>\n",
       "</table>\n",
       "</div>"
      ],
      "text/plain": [
       "  Founded Date Organization Name       Funding Status Last Funding Date  \\\n",
       "0   2014-08-30          Heliocor                 Seed        2018-11-01   \n",
       "1   2017-04-01           Oriente  Early Stage Venture        2018-11-28   \n",
       "2   2015-01-01          Lemonade   Late Stage Venture        2017-12-19   \n",
       "\n",
       "  Last Funding Type  \n",
       "0          Pre-Seed  \n",
       "1          Series A  \n",
       "2          Series C  "
      ]
     },
     "execution_count": 2,
     "metadata": {},
     "output_type": "execute_result"
    }
   ],
   "source": [
    "df_comp = pd.read_csv('./raw_data/companyData.csv', usecols=['Founded Date', 'Organization Name', \n",
    "                                                        'Funding Status', 'Last Funding Date',\n",
    "                                                        'Last Funding Type'])  \n",
    "\n",
    "df_comp.head(3)"
   ]
  },
  {
   "cell_type": "markdown",
   "metadata": {},
   "source": [
    "### 2. Dropping entries of companies  not founded between 2008-18"
   ]
  },
  {
   "cell_type": "code",
   "execution_count": 3,
   "metadata": {},
   "outputs": [],
   "source": [
    "#Dropping rows without 'Founded Date'\n",
    "\n",
    "df_comp = df_comp[df_comp['Founded Date'].notna()]"
   ]
  },
  {
   "cell_type": "code",
   "execution_count": 4,
   "metadata": {},
   "outputs": [],
   "source": [
    "#Converting 'Founded Date', 'Funded Date' to 'Founded_Year', Last_Funded_Year\n",
    "\n",
    "df_comp['Founded Date']=pd.to_datetime(df_comp['Founded Date']).dt.year\n",
    "\n",
    "df_comp['Last Funding Date']=pd.to_datetime(df_comp['Last Funding Date']).dt.year\n",
    "\n",
    "df_comp.rename(columns={'Founded Date':'Founded_Year',\n",
    "                        'Last Funding Date': 'Last_Funding_Year'}, inplace=True)"
   ]
  },
  {
   "cell_type": "code",
   "execution_count": 5,
   "metadata": {},
   "outputs": [],
   "source": [
    "# Dropping rows whose 'Founded_Year' is not between 2008-18\n",
    "\n",
    "df_comp=df_comp[(df_comp['Founded_Year']>=2008) & (df_comp['Founded_Year']<=2018)]"
   ]
  },
  {
   "cell_type": "code",
   "execution_count": 6,
   "metadata": {},
   "outputs": [
    {
     "data": {
      "text/html": [
       "<div>\n",
       "<style scoped>\n",
       "    .dataframe tbody tr th:only-of-type {\n",
       "        vertical-align: middle;\n",
       "    }\n",
       "\n",
       "    .dataframe tbody tr th {\n",
       "        vertical-align: top;\n",
       "    }\n",
       "\n",
       "    .dataframe thead th {\n",
       "        text-align: right;\n",
       "    }\n",
       "</style>\n",
       "<table border=\"1\" class=\"dataframe\">\n",
       "  <thead>\n",
       "    <tr style=\"text-align: right;\">\n",
       "      <th></th>\n",
       "      <th>Founded_Year</th>\n",
       "      <th>Organization Name</th>\n",
       "      <th>Funding Status</th>\n",
       "      <th>Last_Funding_Year</th>\n",
       "      <th>Last Funding Type</th>\n",
       "    </tr>\n",
       "  </thead>\n",
       "  <tbody>\n",
       "    <tr>\n",
       "      <th>0</th>\n",
       "      <td>2014</td>\n",
       "      <td>Heliocor</td>\n",
       "      <td>Seed</td>\n",
       "      <td>2018.0</td>\n",
       "      <td>Pre-Seed</td>\n",
       "    </tr>\n",
       "    <tr>\n",
       "      <th>1</th>\n",
       "      <td>2017</td>\n",
       "      <td>Oriente</td>\n",
       "      <td>Early Stage Venture</td>\n",
       "      <td>2018.0</td>\n",
       "      <td>Series A</td>\n",
       "    </tr>\n",
       "    <tr>\n",
       "      <th>2</th>\n",
       "      <td>2015</td>\n",
       "      <td>Lemonade</td>\n",
       "      <td>Late Stage Venture</td>\n",
       "      <td>2017.0</td>\n",
       "      <td>Series C</td>\n",
       "    </tr>\n",
       "  </tbody>\n",
       "</table>\n",
       "</div>"
      ],
      "text/plain": [
       "   Founded_Year Organization Name       Funding Status  Last_Funding_Year  \\\n",
       "0          2014          Heliocor                 Seed             2018.0   \n",
       "1          2017           Oriente  Early Stage Venture             2018.0   \n",
       "2          2015          Lemonade   Late Stage Venture             2017.0   \n",
       "\n",
       "  Last Funding Type  \n",
       "0          Pre-Seed  \n",
       "1          Series A  \n",
       "2          Series C  "
      ]
     },
     "execution_count": 6,
     "metadata": {},
     "output_type": "execute_result"
    }
   ],
   "source": [
    "df_comp.head(3)"
   ]
  },
  {
   "cell_type": "markdown",
   "metadata": {},
   "source": [
    "### 3. Saving to companies input csv file"
   ]
  },
  {
   "cell_type": "code",
   "execution_count": 7,
   "metadata": {},
   "outputs": [],
   "source": [
    "df_comp.to_csv('./input_data/companyInput.csv',index=False)"
   ]
  },
  {
   "cell_type": "markdown",
   "metadata": {},
   "source": [
    "### 4. Deleting dataframe"
   ]
  },
  {
   "cell_type": "code",
   "execution_count": 8,
   "metadata": {},
   "outputs": [],
   "source": [
    "del df_comp"
   ]
  }
 ],
 "metadata": {
  "kernelspec": {
   "display_name": "Python 3",
   "language": "python",
   "name": "python3"
  },
  "language_info": {
   "codemirror_mode": {
    "name": "ipython",
    "version": 3
   },
   "file_extension": ".py",
   "mimetype": "text/x-python",
   "name": "python",
   "nbconvert_exporter": "python",
   "pygments_lexer": "ipython3",
   "version": "3.7.3"
  }
 },
 "nbformat": 4,
 "nbformat_minor": 2
}
