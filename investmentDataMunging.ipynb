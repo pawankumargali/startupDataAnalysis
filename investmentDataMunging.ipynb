{
 "cells": [
  {
   "cell_type": "code",
   "execution_count": 1,
   "metadata": {},
   "outputs": [],
   "source": [
    "import numpy as np\n",
    "import pandas as pd"
   ]
  },
  {
   "cell_type": "markdown",
   "metadata": {},
   "source": [
    "### 1. Reading raw investments data from csv file\n",
    "    * Includes investment rounds in 2008-18 for companies not founded between 2008-18  as well"
   ]
  },
  {
   "cell_type": "code",
   "execution_count": 2,
   "metadata": {},
   "outputs": [],
   "source": [
    "#Reading Total Investments Data for all Companies in the sector between 2008-18\n",
    "\n",
    "df_inv = pd.read_csv('./raw_data/investmentData.csv', header=None, \n",
    "                                                    names=['Date','DateRoundCount', 'Org_Name','Funding_currency', \n",
    "                                                           'Funding_Amt', 'Funding_Round_Type', 'Investors'], \n",
    "                                                    parse_dates=['Date'])\n",
    "\n",
    "#Dropping columns not required in analysis\n",
    "df_inv.drop(axis=1, columns=['DateRoundCount','Investors'], inplace=True)\n",
    "\n",
    "#Filling NaN values for Date column\n",
    "df_inv['Date'].fillna(method='ffill',inplace=True)"
   ]
  },
  {
   "cell_type": "code",
   "execution_count": 3,
   "metadata": {},
   "outputs": [
    {
     "data": {
      "text/html": [
       "<div>\n",
       "<style scoped>\n",
       "    .dataframe tbody tr th:only-of-type {\n",
       "        vertical-align: middle;\n",
       "    }\n",
       "\n",
       "    .dataframe tbody tr th {\n",
       "        vertical-align: top;\n",
       "    }\n",
       "\n",
       "    .dataframe thead th {\n",
       "        text-align: right;\n",
       "    }\n",
       "</style>\n",
       "<table border=\"1\" class=\"dataframe\">\n",
       "  <thead>\n",
       "    <tr style=\"text-align: right;\">\n",
       "      <th></th>\n",
       "      <th>Date</th>\n",
       "      <th>Org_Name</th>\n",
       "      <th>Funding_currency</th>\n",
       "      <th>Funding_Amt</th>\n",
       "      <th>Funding_Round_Type</th>\n",
       "    </tr>\n",
       "  </thead>\n",
       "  <tbody>\n",
       "    <tr>\n",
       "      <th>0</th>\n",
       "      <td>2018-12-03</td>\n",
       "      <td>Zelros</td>\n",
       "      <td>EUR</td>\n",
       "      <td>4000000</td>\n",
       "      <td>Series A</td>\n",
       "    </tr>\n",
       "    <tr>\n",
       "      <th>1</th>\n",
       "      <td>2018-12-03</td>\n",
       "      <td>Axyon AI</td>\n",
       "      <td>EUR</td>\n",
       "      <td>1300000</td>\n",
       "      <td>Series Unknown</td>\n",
       "    </tr>\n",
       "    <tr>\n",
       "      <th>2</th>\n",
       "      <td>2018-11-28</td>\n",
       "      <td>Oriente</td>\n",
       "      <td>USD</td>\n",
       "      <td>105000000</td>\n",
       "      <td>Series A</td>\n",
       "    </tr>\n",
       "  </tbody>\n",
       "</table>\n",
       "</div>"
      ],
      "text/plain": [
       "        Date   Org_Name Funding_currency Funding_Amt Funding_Round_Type\n",
       "0 2018-12-03    Zelros               EUR     4000000           Series A\n",
       "1 2018-12-03  Axyon AI               EUR     1300000     Series Unknown\n",
       "2 2018-11-28   Oriente               USD   105000000           Series A"
      ]
     },
     "execution_count": 3,
     "metadata": {},
     "output_type": "execute_result"
    }
   ],
   "source": [
    "df_inv.head(3)"
   ]
  },
  {
   "cell_type": "markdown",
   "metadata": {},
   "source": [
    "###  2. Filtering and keeping rows representing investment rounds for companies founded from 2008-18 only\n",
    "      * To include investment rounds only for companies  founded between 2008-18"
   ]
  },
  {
   "cell_type": "markdown",
   "metadata": {},
   "source": [
    "#### a. Fetching data on companies founding date from companyData.csv file in inputs/ folder"
   ]
  },
  {
   "cell_type": "code",
   "execution_count": 4,
   "metadata": {},
   "outputs": [
    {
     "data": {
      "text/html": [
       "<div>\n",
       "<style scoped>\n",
       "    .dataframe tbody tr th:only-of-type {\n",
       "        vertical-align: middle;\n",
       "    }\n",
       "\n",
       "    .dataframe tbody tr th {\n",
       "        vertical-align: top;\n",
       "    }\n",
       "\n",
       "    .dataframe thead th {\n",
       "        text-align: right;\n",
       "    }\n",
       "</style>\n",
       "<table border=\"1\" class=\"dataframe\">\n",
       "  <thead>\n",
       "    <tr style=\"text-align: right;\">\n",
       "      <th></th>\n",
       "      <th>Founded Date</th>\n",
       "      <th>Organization Name</th>\n",
       "    </tr>\n",
       "  </thead>\n",
       "  <tbody>\n",
       "    <tr>\n",
       "      <th>0</th>\n",
       "      <td>2014-08-30</td>\n",
       "      <td>Heliocor</td>\n",
       "    </tr>\n",
       "    <tr>\n",
       "      <th>1</th>\n",
       "      <td>2017-04-01</td>\n",
       "      <td>Oriente</td>\n",
       "    </tr>\n",
       "    <tr>\n",
       "      <th>2</th>\n",
       "      <td>2015-01-01</td>\n",
       "      <td>Lemonade</td>\n",
       "    </tr>\n",
       "  </tbody>\n",
       "</table>\n",
       "</div>"
      ],
      "text/plain": [
       "  Founded Date Organization Name\n",
       "0   2014-08-30          Heliocor\n",
       "1   2017-04-01           Oriente\n",
       "2   2015-01-01          Lemonade"
      ]
     },
     "execution_count": 4,
     "metadata": {},
     "output_type": "execute_result"
    }
   ],
   "source": [
    "#Reading company founding details from companyData.csv file\n",
    "\n",
    "df_founded = pd.read_csv('./raw_data/companyData.csv', usecols=['Founded Date','Organization Name'], \n",
    "                         parse_dates=['Founded Date'])\n",
    "\n",
    "df_founded.head(3)"
   ]
  },
  {
   "cell_type": "markdown",
   "metadata": {},
   "source": [
    "#### b. Filtering entries of companies that are not founded between 2008-18 or whose founded date is not known"
   ]
  },
  {
   "cell_type": "code",
   "execution_count": 5,
   "metadata": {},
   "outputs": [],
   "source": [
    "#Dropping companies whose founded date is not known\n",
    "\n",
    "df_founded = df_founded[df_founded['Founded Date'].notna()]\n",
    "\n",
    "\n",
    "# Converting 'Founded date' to 'Founded_Year' and renaming 'Organization Name' to 'Org_Name'\n",
    "\n",
    "df_founded['Founded Date'] = pd.to_datetime(df_founded['Founded Date']).dt.year\n",
    "\n",
    "df_founded.rename(columns={'Founded Date':'Founded_Year', 'Organization Name':'Org_Name'}, inplace=True)\n",
    "\n",
    "\n",
    "#Finding companies whose founded date isn't between 2008-18\n",
    "\n",
    "df_founded = df_founded[(df_founded.Founded_Year<2008) | (df_founded.Founded_Year>2018)]"
   ]
  },
  {
   "cell_type": "markdown",
   "metadata": {},
   "source": [
    "#### c. Identifying company entries to drop from investments data ie.,  investment rounds entries of  companies founded before 2008-18"
   ]
  },
  {
   "cell_type": "code",
   "execution_count": 6,
   "metadata": {},
   "outputs": [],
   "source": [
    "# Ensuring 'Org_Name' strings don't contain any spaces like 'Comp1 ' or ' Comp2 '\n",
    "\n",
    "df_founded['Org_Name'] = df_founded['Org_Name'].str.strip()\n",
    "\n",
    "df_inv['Org_Name'] = df_inv['Org_Name'].str.strip()"
   ]
  },
  {
   "cell_type": "code",
   "execution_count": 7,
   "metadata": {},
   "outputs": [
    {
     "name": "stdout",
     "output_type": "stream",
     "text": [
      "{'Questel', 'Nanalyze', 'Finicity', 'Tiaxa', 'Pendo Systems', 'Dtex Systems', 'Saffron Technology', 'Crisp Thinking', 'China Rapid Finance', 'IDV Solutions', 'THRON - The Intelligent DAM for Marketers.', 'Aggregate Knowledge'}\n"
     ]
    }
   ],
   "source": [
    "#Set of all companies founded before 2008\n",
    "\n",
    "toDrop_total = set(df_founded['Org_Name'].str.strip())\n",
    "\n",
    "\n",
    "# Set of all companies that have recieved investments in 2008-18\n",
    "\n",
    "in_dfInv = set(df_inv['Org_Name'].str.strip())\n",
    "\n",
    "\n",
    "# Set of all companies founded before 2008, that have not recieved any investments\n",
    "\n",
    "toDrop_notIn_dfInv = toDrop_total - in_dfInv\n",
    "\n",
    "#Set of all companies founded before 2008, that have recieved investments in 2008-18\n",
    "\n",
    "toDrop_from_dfInv = toDrop_total - toDrop_notIn_dfInv\n",
    "\n",
    "print(toDrop_from_dfInv)"
   ]
  },
  {
   "cell_type": "markdown",
   "metadata": {},
   "source": [
    "#### d. Dropping company entries outside analysis period from dataframe"
   ]
  },
  {
   "cell_type": "code",
   "execution_count": 8,
   "metadata": {},
   "outputs": [],
   "source": [
    "# Dropping all companies founded before 2008 and after 2018, that have recieved investments between 2008-18\n",
    "\n",
    "\n",
    "for company in toDrop_from_dfInv:\n",
    "    \n",
    "    df_inv.drop(axis=0, index=df_inv.index[df_inv['Org_Name']==company],inplace=True)\n"
   ]
  },
  {
   "cell_type": "markdown",
   "metadata": {},
   "source": [
    "### 3. Converting Funding Amounts in diff currencies to USD  allow  for generalized summation and comparision\n",
    "        *Adding  ( x + y + z + ... ) USD  as adding ( x EUR + y USD + z INR ) based only on x,y,z values isn't possible\n",
    "    "
   ]
  },
  {
   "cell_type": "code",
   "execution_count": 9,
   "metadata": {},
   "outputs": [],
   "source": [
    "# Replacing undisclosed amounts by zero and currency of undisclosed amounts by USD\n",
    "\n",
    "df_inv['Funding_Amt'].replace('undisclosed',0,inplace=True)\n",
    "\n",
    "df_inv['Funding_currency'].replace({'NA':'USD', None:'USD'},inplace=True)"
   ]
  },
  {
   "cell_type": "markdown",
   "metadata": {},
   "source": [
    "#### i Currency Conversion to USD\n",
    "\n",
    "    Using package CurrencyConverter (ref https://pypi.org/project/CurrencyConverter/)\n",
    "    \n",
    "    The data source is the European Central Bank. This is the ECB historical rates for 42 currencies against the Euro since 1999. "
   ]
  },
  {
   "cell_type": "code",
   "execution_count": 10,
   "metadata": {},
   "outputs": [],
   "source": [
    "#Importing currency converter and instantiating CurrencyConverter object with input as exchange rates csv file\n",
    "\n",
    "from currency_converter import CurrencyConverter\n",
    "\n",
    "c = CurrencyConverter('./input_data/currency_exchange_rates/exRateHist.csv')\n",
    "\n",
    "\n",
    "#Creating 'Funding_Amt_USD' column in df_inv dataframe\n",
    "\n",
    "df_inv['Funding_Amt_USD']=0"
   ]
  },
  {
   "cell_type": "code",
   "execution_count": 11,
   "metadata": {},
   "outputs": [],
   "source": [
    "# Ensuring 'Funding_currency' strings don't contain any spaces like 'EUR ' or ' INR '\n",
    "\n",
    "df_inv['Funding_currency'] = df_inv['Funding_currency'].str.strip()"
   ]
  },
  {
   "cell_type": "code",
   "execution_count": 12,
   "metadata": {},
   "outputs": [],
   "source": [
    "#Converting all Funding Amounts to USD\n",
    "\n",
    "df_inv['Funding_Amt_USD'] = df_inv.apply( lambda x : int( c.convert( x['Funding_Amt'], \n",
    "                                                                     x['Funding_currency'],\n",
    "                                                                     'USD', x['Date'] \n",
    "                                                                   )\n",
    "                                                        ),             \n",
    "                                          axis=1\n",
    "                                        )            "
   ]
  },
  {
   "cell_type": "code",
   "execution_count": 13,
   "metadata": {},
   "outputs": [
    {
     "data": {
      "text/html": [
       "<div>\n",
       "<style scoped>\n",
       "    .dataframe tbody tr th:only-of-type {\n",
       "        vertical-align: middle;\n",
       "    }\n",
       "\n",
       "    .dataframe tbody tr th {\n",
       "        vertical-align: top;\n",
       "    }\n",
       "\n",
       "    .dataframe thead th {\n",
       "        text-align: right;\n",
       "    }\n",
       "</style>\n",
       "<table border=\"1\" class=\"dataframe\">\n",
       "  <thead>\n",
       "    <tr style=\"text-align: right;\">\n",
       "      <th></th>\n",
       "      <th>Date</th>\n",
       "      <th>Org_Name</th>\n",
       "      <th>Funding_currency</th>\n",
       "      <th>Funding_Amt</th>\n",
       "      <th>Funding_Round_Type</th>\n",
       "      <th>Funding_Amt_USD</th>\n",
       "    </tr>\n",
       "  </thead>\n",
       "  <tbody>\n",
       "    <tr>\n",
       "      <th>0</th>\n",
       "      <td>2018-12-03</td>\n",
       "      <td>Zelros</td>\n",
       "      <td>EUR</td>\n",
       "      <td>4000000</td>\n",
       "      <td>Series A</td>\n",
       "      <td>4532800</td>\n",
       "    </tr>\n",
       "    <tr>\n",
       "      <th>1</th>\n",
       "      <td>2018-12-03</td>\n",
       "      <td>Axyon AI</td>\n",
       "      <td>EUR</td>\n",
       "      <td>1300000</td>\n",
       "      <td>Series Unknown</td>\n",
       "      <td>1473160</td>\n",
       "    </tr>\n",
       "    <tr>\n",
       "      <th>2</th>\n",
       "      <td>2018-11-28</td>\n",
       "      <td>Oriente</td>\n",
       "      <td>USD</td>\n",
       "      <td>105000000</td>\n",
       "      <td>Series A</td>\n",
       "      <td>105000000</td>\n",
       "    </tr>\n",
       "  </tbody>\n",
       "</table>\n",
       "</div>"
      ],
      "text/plain": [
       "        Date  Org_Name Funding_currency Funding_Amt Funding_Round_Type  \\\n",
       "0 2018-12-03    Zelros              EUR     4000000           Series A   \n",
       "1 2018-12-03  Axyon AI              EUR     1300000     Series Unknown   \n",
       "2 2018-11-28   Oriente              USD   105000000           Series A   \n",
       "\n",
       "   Funding_Amt_USD  \n",
       "0          4532800  \n",
       "1          1473160  \n",
       "2        105000000  "
      ]
     },
     "execution_count": 13,
     "metadata": {},
     "output_type": "execute_result"
    }
   ],
   "source": [
    "df_inv.head(3)"
   ]
  },
  {
   "cell_type": "markdown",
   "metadata": {},
   "source": [
    "#### ii Dropping Funding Amounts in different currencies"
   ]
  },
  {
   "cell_type": "code",
   "execution_count": 14,
   "metadata": {},
   "outputs": [],
   "source": [
    "#Dropping columns 'Funding_currency' and 'Funding_Amt'\n",
    "\n",
    "df_inv.drop(columns=['Funding_currency', 'Funding_Amt'], inplace=True)"
   ]
  },
  {
   "cell_type": "code",
   "execution_count": 15,
   "metadata": {},
   "outputs": [
    {
     "data": {
      "text/html": [
       "<div>\n",
       "<style scoped>\n",
       "    .dataframe tbody tr th:only-of-type {\n",
       "        vertical-align: middle;\n",
       "    }\n",
       "\n",
       "    .dataframe tbody tr th {\n",
       "        vertical-align: top;\n",
       "    }\n",
       "\n",
       "    .dataframe thead th {\n",
       "        text-align: right;\n",
       "    }\n",
       "</style>\n",
       "<table border=\"1\" class=\"dataframe\">\n",
       "  <thead>\n",
       "    <tr style=\"text-align: right;\">\n",
       "      <th></th>\n",
       "      <th>Date</th>\n",
       "      <th>Org_Name</th>\n",
       "      <th>Funding_Round_Type</th>\n",
       "      <th>Funding_Amt_USD</th>\n",
       "    </tr>\n",
       "  </thead>\n",
       "  <tbody>\n",
       "    <tr>\n",
       "      <th>0</th>\n",
       "      <td>2018-12-03</td>\n",
       "      <td>Zelros</td>\n",
       "      <td>Series A</td>\n",
       "      <td>4532800</td>\n",
       "    </tr>\n",
       "    <tr>\n",
       "      <th>1</th>\n",
       "      <td>2018-12-03</td>\n",
       "      <td>Axyon AI</td>\n",
       "      <td>Series Unknown</td>\n",
       "      <td>1473160</td>\n",
       "    </tr>\n",
       "    <tr>\n",
       "      <th>2</th>\n",
       "      <td>2018-11-28</td>\n",
       "      <td>Oriente</td>\n",
       "      <td>Series A</td>\n",
       "      <td>105000000</td>\n",
       "    </tr>\n",
       "  </tbody>\n",
       "</table>\n",
       "</div>"
      ],
      "text/plain": [
       "        Date  Org_Name Funding_Round_Type  Funding_Amt_USD\n",
       "0 2018-12-03    Zelros           Series A          4532800\n",
       "1 2018-12-03  Axyon AI     Series Unknown          1473160\n",
       "2 2018-11-28   Oriente           Series A        105000000"
      ]
     },
     "execution_count": 15,
     "metadata": {},
     "output_type": "execute_result"
    }
   ],
   "source": [
    "df_inv.head(3)"
   ]
  },
  {
   "cell_type": "markdown",
   "metadata": {},
   "source": [
    "### 4. Converting Funding Date to Funding Year"
   ]
  },
  {
   "cell_type": "code",
   "execution_count": 16,
   "metadata": {},
   "outputs": [],
   "source": [
    "#Converting 'Date' column to 'Year' column\n",
    "\n",
    "df_inv['Date'] = pd.to_datetime(df_inv['Date']).dt.year\n",
    "\n",
    "df_inv.rename(columns={'Date':'Year'}, inplace=True)\n",
    "\n",
    "# Resetting index\n",
    "\n",
    "df_inv.reset_index(drop=True,inplace=True)"
   ]
  },
  {
   "cell_type": "code",
   "execution_count": 17,
   "metadata": {},
   "outputs": [
    {
     "data": {
      "text/html": [
       "<div>\n",
       "<style scoped>\n",
       "    .dataframe tbody tr th:only-of-type {\n",
       "        vertical-align: middle;\n",
       "    }\n",
       "\n",
       "    .dataframe tbody tr th {\n",
       "        vertical-align: top;\n",
       "    }\n",
       "\n",
       "    .dataframe thead th {\n",
       "        text-align: right;\n",
       "    }\n",
       "</style>\n",
       "<table border=\"1\" class=\"dataframe\">\n",
       "  <thead>\n",
       "    <tr style=\"text-align: right;\">\n",
       "      <th></th>\n",
       "      <th>Year</th>\n",
       "      <th>Org_Name</th>\n",
       "      <th>Funding_Round_Type</th>\n",
       "      <th>Funding_Amt_USD</th>\n",
       "    </tr>\n",
       "  </thead>\n",
       "  <tbody>\n",
       "    <tr>\n",
       "      <th>0</th>\n",
       "      <td>2018</td>\n",
       "      <td>Zelros</td>\n",
       "      <td>Series A</td>\n",
       "      <td>4532800</td>\n",
       "    </tr>\n",
       "    <tr>\n",
       "      <th>1</th>\n",
       "      <td>2018</td>\n",
       "      <td>Axyon AI</td>\n",
       "      <td>Series Unknown</td>\n",
       "      <td>1473160</td>\n",
       "    </tr>\n",
       "    <tr>\n",
       "      <th>2</th>\n",
       "      <td>2018</td>\n",
       "      <td>Oriente</td>\n",
       "      <td>Series A</td>\n",
       "      <td>105000000</td>\n",
       "    </tr>\n",
       "  </tbody>\n",
       "</table>\n",
       "</div>"
      ],
      "text/plain": [
       "   Year  Org_Name Funding_Round_Type  Funding_Amt_USD\n",
       "0  2018    Zelros           Series A          4532800\n",
       "1  2018  Axyon AI     Series Unknown          1473160\n",
       "2  2018   Oriente           Series A        105000000"
      ]
     },
     "execution_count": 17,
     "metadata": {},
     "output_type": "execute_result"
    }
   ],
   "source": [
    "df_inv.head(3)"
   ]
  },
  {
   "cell_type": "markdown",
   "metadata": {},
   "source": [
    " ### 5. Adding Funding Stage Column"
   ]
  },
  {
   "cell_type": "markdown",
   "metadata": {},
   "source": [
    "#### Funding Stage column categorizes Funding Round Types under different stages as follows\n",
    "\n",
    "<p><b>Stage</b> : Round Types </p>\n",
    "<p><b>Seed</b> : Angel, Pre-seed, Seed, Grant, Non-Equity Assistance, Convertible Note</p>\n",
    "<p><b>Early Stage Venture</b>: \tSeries A, Series B</p>\n",
    "<p><b>Late stage venture</b>: \tSeries C, Seires D, Series E, Series F, Corporate Round, Secondary Market</p>\n",
    "<p><b>Private Equity</b>:\tPrivate Equity</p>\n",
    "<p><b>Uncategorized (NA)</b> :Venture-Series Unknown, Undisclosed, Funding Round, Initial Coin Offering, Equity Crowdfunding, Product Crowdfunding, Debt Financing</p>"
   ]
  },
  {
   "cell_type": "markdown",
   "metadata": {},
   "source": [
    "### a. Set of All Funding Round Types present"
   ]
  },
  {
   "cell_type": "code",
   "execution_count": 18,
   "metadata": {},
   "outputs": [
    {
     "name": "stdout",
     "output_type": "stream",
     "text": [
      "['Series A' 'Series Unknown' 'Seed' 'Series B' 'Grant' 'Pre Seed'\n",
      " 'Initial Coin Offering' 'Funding Round' 'Convertible Note' 'Series C'\n",
      " 'Angel' 'Secondary Market' 'Equity Crowdfunding' 'Debt Financing'\n",
      " 'Series D' 'Non Equity Assistance' 'Product Crowdfunding'\n",
      " 'Private Equity' 'Corporate Round']\n"
     ]
    }
   ],
   "source": [
    "print(df_inv['Funding_Round_Type'].unique())"
   ]
  },
  {
   "cell_type": "markdown",
   "metadata": {},
   "source": [
    "### b. Creating Funding Stage Column and Dictionary of Funding Stage &  Rounds under each each Stage"
   ]
  },
  {
   "cell_type": "code",
   "execution_count": 19,
   "metadata": {},
   "outputs": [],
   "source": [
    "# Creating Funding_Stage Column\n",
    "df_inv['Funding_Stage'] = 0\n",
    "\n",
    "# Creating stageLst with  key as Funding Stage and value as List of Funding Rounds categorized under the Funding Stage\n",
    "stageLst = {\n",
    "    \n",
    "             'Seed' : ['Angel', 'Pre Seed', 'Seed', 'Grant', 'Non Equity Assistance', 'Convertible Note'],\n",
    "\n",
    "             'Early Stage': ['Series A', 'Series B'],\n",
    "\n",
    "             'Late Stage': ['Series C', 'Series D','Series E', 'Series F','Corporate Round', 'Secondary Market'],\n",
    "\n",
    "            'Private Equity': ['Private Equity'],\n",
    "\n",
    "            'Uncategorized': ['Series Unknown', 'Initial Coin Offering', 'Funding Round',\n",
    "                         \n",
    "                              'Equity Crowdfunding','Product Crowdfunding','Debt Financing']\n",
    "            }\n"
   ]
  },
  {
   "cell_type": "markdown",
   "metadata": {},
   "source": [
    "### Assigning values to Funding Stage Column based on dictionary { Stage : [Funding Rounds] }"
   ]
  },
  {
   "cell_type": "code",
   "execution_count": 20,
   "metadata": {},
   "outputs": [],
   "source": [
    "\n",
    "for key, valueLst in stageLst.items():\n",
    "    \n",
    "    df_inv.loc[df_inv['Funding_Round_Type'].isin(valueLst),'Funding_Stage']=key\n",
    "    "
   ]
  },
  {
   "cell_type": "code",
   "execution_count": 21,
   "metadata": {},
   "outputs": [
    {
     "data": {
      "text/html": [
       "<div>\n",
       "<style scoped>\n",
       "    .dataframe tbody tr th:only-of-type {\n",
       "        vertical-align: middle;\n",
       "    }\n",
       "\n",
       "    .dataframe tbody tr th {\n",
       "        vertical-align: top;\n",
       "    }\n",
       "\n",
       "    .dataframe thead th {\n",
       "        text-align: right;\n",
       "    }\n",
       "</style>\n",
       "<table border=\"1\" class=\"dataframe\">\n",
       "  <thead>\n",
       "    <tr style=\"text-align: right;\">\n",
       "      <th></th>\n",
       "      <th>Year</th>\n",
       "      <th>Org_Name</th>\n",
       "      <th>Funding_Round_Type</th>\n",
       "      <th>Funding_Amt_USD</th>\n",
       "      <th>Funding_Stage</th>\n",
       "    </tr>\n",
       "  </thead>\n",
       "  <tbody>\n",
       "    <tr>\n",
       "      <th>0</th>\n",
       "      <td>2018</td>\n",
       "      <td>Zelros</td>\n",
       "      <td>Series A</td>\n",
       "      <td>4532800</td>\n",
       "      <td>Early Stage</td>\n",
       "    </tr>\n",
       "    <tr>\n",
       "      <th>1</th>\n",
       "      <td>2018</td>\n",
       "      <td>Axyon AI</td>\n",
       "      <td>Series Unknown</td>\n",
       "      <td>1473160</td>\n",
       "      <td>Uncategorized</td>\n",
       "    </tr>\n",
       "    <tr>\n",
       "      <th>2</th>\n",
       "      <td>2018</td>\n",
       "      <td>Oriente</td>\n",
       "      <td>Series A</td>\n",
       "      <td>105000000</td>\n",
       "      <td>Early Stage</td>\n",
       "    </tr>\n",
       "  </tbody>\n",
       "</table>\n",
       "</div>"
      ],
      "text/plain": [
       "   Year  Org_Name Funding_Round_Type  Funding_Amt_USD  Funding_Stage\n",
       "0  2018    Zelros           Series A          4532800    Early Stage\n",
       "1  2018  Axyon AI     Series Unknown          1473160  Uncategorized\n",
       "2  2018   Oriente           Series A        105000000    Early Stage"
      ]
     },
     "execution_count": 21,
     "metadata": {},
     "output_type": "execute_result"
    }
   ],
   "source": [
    "df_inv.head(3)"
   ]
  },
  {
   "cell_type": "markdown",
   "metadata": {},
   "source": [
    "### 6. Saving to investments input csv file"
   ]
  },
  {
   "cell_type": "code",
   "execution_count": 22,
   "metadata": {},
   "outputs": [],
   "source": [
    "#Saving to file\n",
    "\n",
    "df_inv.to_csv('./input_data/investmentInput.csv', index=False)"
   ]
  },
  {
   "cell_type": "markdown",
   "metadata": {},
   "source": [
    "### 7. Deleting dataframes to deallocate memory"
   ]
  },
  {
   "cell_type": "code",
   "execution_count": 23,
   "metadata": {},
   "outputs": [],
   "source": [
    "del df_inv\n",
    "del df_founded"
   ]
  }
 ],
 "metadata": {
  "kernelspec": {
   "display_name": "Python 3",
   "language": "python",
   "name": "python3"
  },
  "language_info": {
   "codemirror_mode": {
    "name": "ipython",
    "version": 3
   },
   "file_extension": ".py",
   "mimetype": "text/x-python",
   "name": "python",
   "nbconvert_exporter": "python",
   "pygments_lexer": "ipython3",
   "version": "3.7.3"
  }
 },
 "nbformat": 4,
 "nbformat_minor": 2
}
